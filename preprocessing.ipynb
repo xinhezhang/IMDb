{
 "cells": [
  {
   "cell_type": "markdown",
   "metadata": {},
   "source": [
    "Import common libraries"
   ]
  },
  {
   "cell_type": "code",
   "execution_count": 1,
   "metadata": {
    "collapsed": true
   },
   "outputs": [],
   "source": [
    "import numpy as np\n",
    "import pandas as pd"
   ]
  },
  {
   "cell_type": "markdown",
   "metadata": {},
   "source": [
    "Load title.basics data"
   ]
  },
  {
   "cell_type": "code",
   "execution_count": 2,
   "metadata": {},
   "outputs": [
    {
     "name": "stderr",
     "output_type": "stream",
     "text": [
      "/Users/xinhezhang/anaconda2/lib/python2.7/site-packages/IPython/core/interactiveshell.py:2718: DtypeWarning: Columns (5) have mixed types. Specify dtype option on import or set low_memory=False.\n",
      "  interactivity=interactivity, compiler=compiler, result=result)\n"
     ]
    },
    {
     "name": "stdout",
     "output_type": "stream",
     "text": [
      "      tconst titleType                                 primaryTitle  \\\n",
      "0  tt0000001     short                                   Carmencita   \n",
      "1  tt0000002     short                       Le clown et ses chiens   \n",
      "2  tt0000003     short                               Pauvre Pierrot   \n",
      "3  tt0000004     short                                  Un bon bock   \n",
      "4  tt0000005     short                             Blacksmith Scene   \n",
      "5  tt0000006     short                            Chinese Opium Den   \n",
      "6  tt0000007     short  Corbett and Courtney Before the Kinetograph   \n",
      "7  tt0000008     short       Edison Kinetoscopic Record of a Sneeze   \n",
      "8  tt0000009     movie                                   Miss Jerry   \n",
      "9  tt0000010     short        Employees Leaving the Lumière Factory   \n",
      "\n",
      "                                 originalTitle  isAdult startYear endYear  \\\n",
      "0                                   Carmencita        0      1894      \\N   \n",
      "1                       Le clown et ses chiens        0      1892      \\N   \n",
      "2                               Pauvre Pierrot        0      1892      \\N   \n",
      "3                                  Un bon bock        0      1892      \\N   \n",
      "4                             Blacksmith Scene        0      1893      \\N   \n",
      "5                            Chinese Opium Den        0      1894      \\N   \n",
      "6  Corbett and Courtney Before the Kinetograph        0      1894      \\N   \n",
      "7       Edison Kinetoscopic Record of a Sneeze        0      1894      \\N   \n",
      "8                                   Miss Jerry        0      1894      \\N   \n",
      "9          La sortie de l'usine Lumière à Lyon        0      1895      \\N   \n",
      "\n",
      "  runtimeMinutes                    genres  \n",
      "0              1         Documentary,Short  \n",
      "1              5           Animation,Short  \n",
      "2              4  Animation,Comedy,Romance  \n",
      "3             \\N           Animation,Short  \n",
      "4              1                     Short  \n",
      "5              1                     Short  \n",
      "6              1               Short,Sport  \n",
      "7              1         Documentary,Short  \n",
      "8             45                   Romance  \n",
      "9              1         Documentary,Short  \n"
     ]
    }
   ],
   "source": [
    "title_basics = pd.read_csv('title.basics.tsv', delimiter='\\t', encoding='utf-8')\n",
    "\n",
    "print title_basics.head(10)"
   ]
  },
  {
   "cell_type": "markdown",
   "metadata": {},
   "source": [
    "Only keep movie related data"
   ]
  },
  {
   "cell_type": "code",
   "execution_count": 3,
   "metadata": {},
   "outputs": [
    {
     "name": "stdout",
     "output_type": "stream",
     "text": [
      "        tconst titleType                     primaryTitle  \\\n",
      "8    tt0000009     movie                       Miss Jerry   \n",
      "145  tt0000147     movie    The Corbett-Fitzsimmons Fight   \n",
      "332  tt0000335     movie            Soldiers of the Cross   \n",
      "499  tt0000502     movie                         Bohemios   \n",
      "571  tt0000574     movie      The Story of the Kelly Gang   \n",
      "611  tt0000615     movie               Robbery Under Arms   \n",
      "626  tt0000630     movie                           Hamlet   \n",
      "669  tt0000675     movie                      Don Quijote   \n",
      "670  tt0000676     movie  Don Álvaro o la fuerza del sino   \n",
      "673  tt0000679     movie   The Fairylogue and Radio-Plays   \n",
      "\n",
      "                       originalTitle  isAdult startYear endYear  \\\n",
      "8                         Miss Jerry        0      1894      \\N   \n",
      "145    The Corbett-Fitzsimmons Fight        0      1897      \\N   \n",
      "332            Soldiers of the Cross        0      1900      \\N   \n",
      "499                         Bohemios        0      1905      \\N   \n",
      "571      The Story of the Kelly Gang        0      1906      \\N   \n",
      "611               Robbery Under Arms        0      1907      \\N   \n",
      "626                           Amleto        0      1908      \\N   \n",
      "669                      Don Quijote        0      1908      \\N   \n",
      "670  Don Álvaro o la fuerza del sino        0      1908      \\N   \n",
      "673   The Fairylogue and Radio-Plays        0      1908      \\N   \n",
      "\n",
      "    runtimeMinutes                  genres  \n",
      "8               45                 Romance  \n",
      "145             20  Documentary,News,Sport  \n",
      "332             \\N         Biography,Drama  \n",
      "499            100                      \\N  \n",
      "571             70   Biography,Crime,Drama  \n",
      "611             \\N                   Drama  \n",
      "626             \\N                   Drama  \n",
      "669             \\N                   Drama  \n",
      "670             \\N                   Drama  \n",
      "673            120       Adventure,Fantasy  \n"
     ]
    }
   ],
   "source": [
    "title_basics_movie = title_basics[title_basics['titleType'] == 'movie']\n",
    "\n",
    "print title_basics_movie.head(10)"
   ]
  },
  {
   "cell_type": "code",
   "execution_count": 4,
   "metadata": {},
   "outputs": [
    {
     "name": "stdout",
     "output_type": "stream",
     "text": [
      "Number of movies: 478145\n",
      "Number of features: 9\n"
     ]
    }
   ],
   "source": [
    "print \"Number of movies:\", title_basics_movie.shape[0]\n",
    "print \"Number of features:\", title_basics_movie.shape[1]"
   ]
  },
  {
   "cell_type": "markdown",
   "metadata": {},
   "source": [
    "Get moive uid(tconst)"
   ]
  },
  {
   "cell_type": "code",
   "execution_count": 5,
   "metadata": {},
   "outputs": [
    {
     "name": "stdout",
     "output_type": "stream",
     "text": [
      "8      tt0000009\n",
      "145    tt0000147\n",
      "332    tt0000335\n",
      "499    tt0000502\n",
      "571    tt0000574\n",
      "611    tt0000615\n",
      "626    tt0000630\n",
      "669    tt0000675\n",
      "670    tt0000676\n",
      "673    tt0000679\n",
      "Name: tconst, dtype: object\n"
     ]
    }
   ],
   "source": [
    "uid = title_basics_movie['tconst']\n",
    "\n",
    "print uid.head(10)"
   ]
  },
  {
   "cell_type": "markdown",
   "metadata": {},
   "source": [
    "Load title.rating data"
   ]
  },
  {
   "cell_type": "code",
   "execution_count": 6,
   "metadata": {},
   "outputs": [
    {
     "name": "stdout",
     "output_type": "stream",
     "text": [
      "      tconst  averageRating  numVotes\n",
      "0  tt0000001            5.8      1350\n",
      "1  tt0000002            6.5       157\n",
      "2  tt0000003            6.6       934\n",
      "3  tt0000004            6.4        93\n",
      "4  tt0000005            6.2      1622\n",
      "5  tt0000006            5.7        80\n",
      "6  tt0000007            5.5       544\n",
      "7  tt0000008            5.6      1441\n",
      "8  tt0000009            5.4        62\n",
      "9  tt0000010            6.9      4851\n"
     ]
    }
   ],
   "source": [
    "title_ratings = pd.read_csv('title.ratings.tsv', delimiter='\\t', encoding='utf-8')\n",
    "\n",
    "print title_ratings.head(10)"
   ]
  },
  {
   "cell_type": "code",
   "execution_count": 7,
   "metadata": {},
   "outputs": [
    {
     "name": "stdout",
     "output_type": "stream",
     "text": [
      "        tconst  averageRating  numVotes\n",
      "8    tt0000009            5.4        62\n",
      "141  tt0000147            5.2       246\n",
      "232  tt0000335            6.2        32\n",
      "331  tt0000574            6.3       431\n",
      "347  tt0000615            5.1        12\n",
      "353  tt0000630            2.9         8\n",
      "380  tt0000675            4.7         7\n",
      "381  tt0000676            4.0         6\n",
      "382  tt0000679            6.1        24\n",
      "412  tt0000739            7.2         6\n"
     ]
    }
   ],
   "source": [
    "title_ratings_movie = title_ratings[title_ratings['tconst'].isin(uid.values)]\n",
    "\n",
    "print title_ratings_movie.head(10)"
   ]
  },
  {
   "cell_type": "markdown",
   "metadata": {},
   "source": [
    "Top 10 highest rating movies with votes over 100000"
   ]
  },
  {
   "cell_type": "code",
   "execution_count": 8,
   "metadata": {},
   "outputs": [
    {
     "name": "stdout",
     "output_type": "stream",
     "text": [
      "           tconst  averageRating  numVotes\n",
      "78311   tt0111161            9.3   1916499\n",
      "42888   tt0068646            9.2   1309726\n",
      "231825  tt0468569            9.0   1888525\n",
      "45359   tt0071562            9.0    904100\n",
      "78098   tt0110912            8.9   1497311\n",
      "27252   tt0050083            8.9    528259\n",
      "75788   tt0108052            8.9    986281\n",
      "107892  tt0167260            8.9   1368095\n",
      "35790   tt0060196            8.9    566810\n",
      "465042  tt1375666            8.8   1676599\n"
     ]
    }
   ],
   "source": [
    "rating10 = title_ratings_movie[title_ratings_movie['numVotes'] > 100000].sort_values(['averageRating'], ascending=[0]).head(10)\n",
    "uid10 = rating10['tconst'].values\n",
    "\n",
    "print rating10"
   ]
  },
  {
   "cell_type": "markdown",
   "metadata": {},
   "source": [
    "Top 10 highest rating movies with votes over 100000 (sorted)"
   ]
  },
  {
   "cell_type": "code",
   "execution_count": 26,
   "metadata": {},
   "outputs": [
    {
     "name": "stdout",
     "output_type": "stream",
     "text": [
      "['The Shawshank Redemption', 'The Godfather', 'The Dark Knight', 'The Godfather: Part II', 'Pulp Fiction', '12 Angry Men', \"Schindler's List\", 'The Lord of the Rings: The Return of the King', 'The Good, the Bad and the Ugly', 'Inception']\n"
     ]
    }
   ],
   "source": [
    "#movie10 = title_basics_movie[title_basics_movie['tconst'].isin(uid10)]['primaryTitle']\n",
    "movie10 = list()\n",
    "for i in uid10:\n",
    "    movie10.append(title_basics_movie[title_basics_movie['tconst'] == i]['primaryTitle'].values[0].encode('ascii','ignore'))\n",
    "    \n",
    "print movie10"
   ]
  },
  {
   "cell_type": "code",
   "execution_count": null,
   "metadata": {},
   "outputs": [],
   "source": []
  }
 ],
 "metadata": {
  "kernelspec": {
   "display_name": "Python 2",
   "language": "python",
   "name": "python2"
  },
  "language_info": {
   "codemirror_mode": {
    "name": "ipython",
    "version": 2
   },
   "file_extension": ".py",
   "mimetype": "text/x-python",
   "name": "python",
   "nbconvert_exporter": "python",
   "pygments_lexer": "ipython2",
   "version": "2.7.14"
  }
 },
 "nbformat": 4,
 "nbformat_minor": 2
}
