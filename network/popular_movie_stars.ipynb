{
 "cells": [
  {
   "cell_type": "markdown",
   "metadata": {},
   "source": [
    "# Popular Movie Stars\n",
    "## Objective\n",
    "1. Get the most popular stars according to his/her rating and valid movie account;\n",
    "2. Have some insight into the network between popular actors;"
   ]
  },
  {
   "cell_type": "markdown",
   "metadata": {},
   "source": [
    "## Step 1: Clean the data\n",
    "Since we only have the data of movie-actor pair and the movie/actor info, the first step is to merge and clean the data here."
   ]
  },
  {
   "cell_type": "markdown",
   "metadata": {},
   "source": [
    " ###  filter the record which is not 'movie'"
   ]
  },
  {
   "cell_type": "code",
   "execution_count": 1,
   "metadata": {
    "collapsed": true
   },
   "outputs": [],
   "source": [
    "import pandas as pd\n",
    "from pandas import DataFrame, Series\n",
    "\n",
    "\n",
    "def simplify_data():\n",
    "\n",
    "    # filter the non-movie kind and merge movie name into the record\n",
    "    title_movie_only = pd.read_csv('./originalData/movie_basic_info.csv', delimiter='\\t', encoding='utf-8',\n",
    "                               usecols=['tconst', 'titleType', 'primaryTitle'])\n",
    "    title_movie_only = title_movie_only[title_movie_only['titleType'] == 'movie']\n",
    "    title_movie_only.drop('titleType', inplace=True, axis='columns')\n",
    "\n",
    "    data=pd.read_csv('../originalData/principle.csv', delimiter='\\t', encoding='utf-8', usecols=['tconst', 'nconst', 'category'])\n",
    "    data = data[data['category'].isin(['actor', 'actress'])]\n",
    "    data.drop('category', inplace=True, axis='columns')\n",
    "    data = pd.merge(title_movie_only, data, on='tconst')\n",
    "\n",
    "    #  merge the name of actor\n",
    "    name = pd.read_csv('./originalData/actor_basic_info.csv', delimiter='\\t', encoding='utf-8', usecols=['nconst', 'primaryName'])\n",
    "    data = pd.merge(name, data, on='nconst')\n",
    "    data.columns=['actorId', 'actorName', 'movieId', 'movieTitle']\n",
    "\n",
    "    print(data.head())\n",
    "    data.to_csv(\"data_simplified.csv\", index= False)"
   ]
  },
  {
   "cell_type": "markdown",
   "metadata": {},
   "source": [
    "### group the data by movie Id and actor Id, hence we got the cast of one movie and the movies one actor is in."
   ]
  },
  {
   "cell_type": "code",
   "execution_count": 2,
   "metadata": {
    "collapsed": true
   },
   "outputs": [],
   "source": [
    "def group_data():\n",
    "    data=pd.read_csv('data_simplified.csv', usecols=['movieId', 'actorId'])\n",
    "\n",
    "    '''\n",
    "    Group the data by ActorId\n",
    "    '''\n",
    "    data_actor=data.groupby('actorId')['movieId'].apply(list)\n",
    "    data_actor=data_actor.reset_index()\n",
    "    data_actor.columns=['actorId', 'movies']\n",
    "    data_actor['count']= data_actor.movies.apply(lambda x: len(x))\n",
    "    data_actor= data_actor.sort_values('count', ascending=False)\n",
    "    data_actor.to_csv('data_actor.csv', index=False)\n",
    "\n",
    "    '''\n",
    "    Print the actor who has the most screen credit\n",
    "    '''\n",
    "    name = pd.read_csv('actor_name.csv', delimiter='\\t', encoding='utf-8', usecols=['nconst', 'primaryName'])\n",
    "    name.columns=['actorId', 'primaryName']\n",
    "    actor_top_10_num= data_actor[0:20]\n",
    "    actor_top_10_num= pd.merge(name, actor_top_10_num, on='actorId')\n",
    "    actor_top_10_num= actor_top_10_num.sort_values('count', ascending=False)\n",
    "    print(actor_top_10_num[['primaryName', 'actorId']])\n",
    "\n",
    "\n",
    "    '''\n",
    "    Group the data by MovieId\n",
    "    '''\n",
    "    data_movie=data.groupby('movieId')['actorId'].apply(list)\n",
    "    data_movie=data_movie.reset_index()\n",
    "    data_movie.columns=['movieId', 'actors']\n",
    "    data_movie.to_csv('data_movie.csv', index= False)\n",
    "\n",
    "\n",
    "    '''\n",
    "    Create the Connection Graph:\n",
    "        We think that if two actors appeared in the same movie, then the two actors are connected, here we want to find the \n",
    "        connection Graph \n",
    "    '''\n",
    "    def get_connection(movieList):\n",
    "        actor_in_movies=list(set([a for b in data_movie[data_movie['movieId'].isin(movieList)].actors.tolist() for a in b]))\n",
    "        return actor_in_movies\n",
    "\n",
    "    data_actor['connection']=data_actor['movies'].apply(get_connection)\n",
    "    data_actor.to_csv('connection.csv', columns=['actorId', 'connection'])"
   ]
  },
  {
   "cell_type": "markdown",
   "metadata": {},
   "source": [
    "### Merge the actor info and movie info into the data we get above"
   ]
  },
  {
   "cell_type": "code",
   "execution_count": 3,
   "metadata": {
    "collapsed": true
   },
   "outputs": [],
   "source": [
    "def merge_movie_data():\n",
    "    '''\n",
    "\n",
    "    here we merge data to the form of:  movieId,  actors, rating, numVotes, title\n",
    "    '''\n",
    "\n",
    "    title_movie_only = pd.read_csv('./originalData/movie_basic_info.csv', delimiter='\\t', encoding='utf-8',\n",
    "                                   usecols=['tconst', 'titleType', 'primaryTitle'])\n",
    "    title_movie_only = title_movie_only[title_movie_only['titleType'] == 'movie']\n",
    "    title_movie_only.drop('titleType', inplace=True, axis='columns')\n",
    "    title_movie_only.columns=['movieId', 'title']\n",
    "\n",
    "\n",
    "    rating_info = pd.read_csv('originalData/movie_rating_info.csv', delimiter='\\t', encoding='utf-8')\n",
    "    rating_info.columns = ['movieId', 'rating', 'numVotes']\n",
    "\n",
    "    data_movie = pd.read_csv('data_movie.csv')\n",
    "    # from ast import literal_eval\n",
    "    # data_movie.actors = data_movie.actors.apply(literal_eval())\n",
    "\n",
    "    data_movie= pd.merge(data_movie, rating_info, on='movieId')\n",
    "    data_movie= pd.merge(data_movie, title_movie_only, on='movieId')\n",
    "    data_movie.to_csv('movieInfo.csv', index= False)\n",
    "\n",
    "def merge_actor_data():\n",
    "    actor_info=pd.read_csv('originalData/actor_basic_info.csv', delimiter='\\t', encoding='utf-8')\n",
    "    actor_info.columns=['actorId', 'primaryName', 'birthYear', 'deathYear', 'primaryProfession', 'knownForTitles']\n",
    "    data_actor= pd.read_csv('actor_rating.csv')\n",
    "\n",
    "    actor_info=pd.merge(data_actor, actor_info, on='actorId')\n",
    "    actor_info.to_csv('actor_info.csv', columns=['actorId', 'primaryName', 'birthYear', 'deathYear', 'ratings','numVotes','count'], index=False)\n",
    "\n",
    "def get_actor_rating_votes():\n",
    "    movie_info=pd.read_csv('movieInfo.csv')\n",
    "    data_actor= pd.read_csv('data_actor.csv')\n",
    "\n",
    "    from ast import literal_eval\n",
    "    data_actor.movies= data_actor.movies.apply(literal_eval)\n",
    "\n",
    "    def get_rating(movieList):\n",
    "        df=movie_info[movie_info['movieId'].isin(movieList)]\n",
    "        ratings=df.rating.tolist()\n",
    "        numVotes=df.numVotes.tolist()\n",
    "        return ratings, numVotes\n",
    "    data_actor['ratings'], data_actor['numVotes'] = zip(*data_actor['movies'].map(get_rating))\n",
    "    data_actor.to_csv('actor_rating.csv', columns=['actorId', 'ratings', 'numVotes', 'count'], index= False)"
   ]
  },
  {
   "cell_type": "markdown",
   "metadata": {},
   "source": [
    "## Step 2: Get popular actors and their connection "
   ]
  },
  {
   "cell_type": "markdown",
   "metadata": {},
   "source": [
    "Sort the actors according to their rating and number of vote:"
   ]
  },
  {
   "cell_type": "code",
   "execution_count": 4,
   "metadata": {
    "collapsed": true
   },
   "outputs": [],
   "source": [
    "def rating_analysis():\n",
    "    '''\n",
    "    analysis the actor who has the most numVotes and rating\n",
    "    '''\n",
    "    actor_info= pd.read_csv(\"actor_info.csv\", usecols=['actorId', 'ratings', 'numVotes', 'count', 'primaryName'])\n",
    "    from ast import literal_eval\n",
    "    actor_info.numVotes=actor_info.numVotes.apply(literal_eval)\n",
    "    actor_info.ratings=actor_info.ratings.apply(literal_eval)\n",
    "    def get_aver_rating(x):\n",
    "        return  sum(x.ratings)/x['count']\n",
    "    def get_aver_vote(x):\n",
    "        return sum(x.numVotes)/x['count']\n",
    "    actor_info['averRating']=actor_info.apply(get_aver_rating, axis=1)\n",
    "    actor_info['averVote']=actor_info.apply(get_aver_vote, axis= 1)\n",
    "    actor_info['validCount']=actor_info.ratings.apply(lambda x: len(x))\n",
    "    actor_info= actor_info[actor_info['validCount']>=3]\n",
    "    actor_info= actor_info[actor_info['averVote']>=100]\n",
    "    actor_info.sort_values('averRating', ascending=False, inplace=True)\n",
    "    actor_info.to_csv('actor_rating_sorted.csv', index= False)\n",
    "    actor_info.sort_values('averVote', ascending=False, inplace= True)\n",
    "    actor_info.to_csv('actor_vote_sorted.csv', index=False)"
   ]
  },
  {
   "cell_type": "markdown",
   "metadata": {},
   "source": [
    "Here, we have to define the popularity and get the top 100, since we will need information of popularity and some more info(like gender and so on), TMDB database api was introduced here."
   ]
  },
  {
   "cell_type": "code",
   "execution_count": 5,
   "metadata": {
    "collapsed": true
   },
   "outputs": [],
   "source": [
    "def get_popular_actors():\n",
    "    '''\n",
    "    datameta: actorId,primaryName,birthYear,deathYear,ratings,numVotes,count\n",
    "    we use create a new index: log(averRating*averVote*validCount) to indicate the popularity\n",
    "    or we can just use the popularity in TMDB\n",
    "    '''\n",
    "    actor_info=pd.read_csv(\"actor_rating_sorted.csv\")\n",
    "    def get_p_index(x):\n",
    "        return round(x['validCount']*x['averRating']*x['averVote']*x['averRating']/10000000)\n",
    "    actor_info['p_index']=actor_info.apply(get_p_index, axis=1)\n",
    "    actor_info.sort_values('p_index', ascending=False, inplace=True)\n",
    "    # get some range here.\n",
    "    actor_info= actor_info[0:1000]\n",
    "    def get_actor_info(actorId):\n",
    "        import requests\n",
    "        import time\n",
    "        time.sleep(0.5)\n",
    "        url=\"https://api.themoviedb.org/3/find/\"+actorId+\"?api_key=af799a17781878f440e337ad70ea9713&language=en-US&external_source=imdb_id\"\n",
    "        response= requests.get(url)\n",
    "        if response.status_code==200:\n",
    "            tmdb_id=response.json().get(\"person_results\")[0].get(\"id\")\n",
    "            url=\"https://api.themoviedb.org/3/person/\"+str(tmdb_id)+\"?api_key=af799a17781878f440e337ad70ea9713&language=en-US\"\n",
    "            more_info=requests.get(url)\n",
    "            if more_info.status_code==200:\n",
    "                more_info= more_info.json()\n",
    "                return (more_info.get(\"gender\"),more_info.get(\"popularity\"))\n",
    "            else:\n",
    "                print(\"Connection error\")\n",
    "        else:\n",
    "            print(\"Connection Error\")\n",
    "    actor_info['gender'], actor_info['popularity']=zip(*actor_info.actorId.map(get_actor_info))\n",
    "    actor_info.sort_values(\"popularity\", inplace=True, ascending=False)\n",
    "    actor_info[0:100].to_csv('popular_actor_top100.csv', index=False)\n"
   ]
  },
  {
   "cell_type": "markdown",
   "metadata": {},
   "source": [
    "After the above step, we have almost all the data we need, and also we got some basic info about the score and number of votes. Next step we will merge the data and get the data we use to analyze network;"
   ]
  },
  {
   "cell_type": "code",
   "execution_count": 6,
   "metadata": {},
   "outputs": [
    {
     "ename": "IOError",
     "evalue": "File connection.csv does not exist",
     "output_type": "error",
     "traceback": [
      "\u001b[0;31m---------------------------------------------------------------------------\u001b[0m",
      "\u001b[0;31mIOError\u001b[0m                                   Traceback (most recent call last)",
      "\u001b[0;32m<ipython-input-6-c4be431b5d37>\u001b[0m in \u001b[0;36m<module>\u001b[0;34m()\u001b[0m\n\u001b[1;32m     77\u001b[0m \u001b[0;34m\u001b[0m\u001b[0m\n\u001b[1;32m     78\u001b[0m \u001b[0;32mif\u001b[0m \u001b[0m__name__\u001b[0m\u001b[0;34m==\u001b[0m\u001b[0;34m\"__main__\"\u001b[0m\u001b[0;34m:\u001b[0m\u001b[0;34m\u001b[0m\u001b[0m\n\u001b[0;32m---> 79\u001b[0;31m     \u001b[0mpopular_actors_connection\u001b[0m\u001b[0;34m(\u001b[0m\u001b[0;34m)\u001b[0m\u001b[0;34m\u001b[0m\u001b[0m\n\u001b[0m\u001b[1;32m     80\u001b[0m     \u001b[0madd_edge_name\u001b[0m\u001b[0;34m(\u001b[0m\u001b[0;34m)\u001b[0m\u001b[0;34m\u001b[0m\u001b[0m\n\u001b[1;32m     81\u001b[0m     \u001b[0mmerge_edge\u001b[0m\u001b[0;34m(\u001b[0m\u001b[0;34m)\u001b[0m\u001b[0;34m\u001b[0m\u001b[0m\n",
      "\u001b[0;32m<ipython-input-6-c4be431b5d37>\u001b[0m in \u001b[0;36mpopular_actors_connection\u001b[0;34m()\u001b[0m\n\u001b[1;32m      1\u001b[0m \u001b[0;32mdef\u001b[0m \u001b[0mpopular_actors_connection\u001b[0m\u001b[0;34m(\u001b[0m\u001b[0;34m)\u001b[0m\u001b[0;34m:\u001b[0m\u001b[0;34m\u001b[0m\u001b[0m\n\u001b[1;32m      2\u001b[0m     \u001b[0mpopular_actors\u001b[0m\u001b[0;34m=\u001b[0m \u001b[0mpd\u001b[0m\u001b[0;34m.\u001b[0m\u001b[0mread_csv\u001b[0m\u001b[0;34m(\u001b[0m\u001b[0;34m\"popular_actor_top100.csv\"\u001b[0m\u001b[0;34m,\u001b[0m \u001b[0musecols\u001b[0m\u001b[0;34m=\u001b[0m\u001b[0;34m[\u001b[0m\u001b[0;34m'actorId'\u001b[0m\u001b[0;34m,\u001b[0m \u001b[0;34m'primaryName'\u001b[0m\u001b[0;34m,\u001b[0m \u001b[0;34m'popularity'\u001b[0m\u001b[0;34m,\u001b[0m \u001b[0;34m'averRating'\u001b[0m\u001b[0;34m,\u001b[0m \u001b[0;34m'gender'\u001b[0m\u001b[0;34m,\u001b[0m \u001b[0;34m'p_index'\u001b[0m\u001b[0;34m]\u001b[0m\u001b[0;34m)\u001b[0m\u001b[0;34m\u001b[0m\u001b[0m\n\u001b[0;32m----> 3\u001b[0;31m     \u001b[0mconnection\u001b[0m\u001b[0;34m=\u001b[0m \u001b[0mpd\u001b[0m\u001b[0;34m.\u001b[0m\u001b[0mread_csv\u001b[0m\u001b[0;34m(\u001b[0m\u001b[0;34m\"connection.csv\"\u001b[0m\u001b[0;34m,\u001b[0m \u001b[0musecols\u001b[0m\u001b[0;34m=\u001b[0m\u001b[0;34m[\u001b[0m\u001b[0;34m'actorId'\u001b[0m\u001b[0;34m,\u001b[0m \u001b[0;34m'connection'\u001b[0m\u001b[0;34m]\u001b[0m\u001b[0;34m)\u001b[0m\u001b[0;34m\u001b[0m\u001b[0m\n\u001b[0m\u001b[1;32m      4\u001b[0m     \u001b[0mactor_connection\u001b[0m\u001b[0;34m=\u001b[0m\u001b[0mpd\u001b[0m\u001b[0;34m.\u001b[0m\u001b[0mmerge\u001b[0m\u001b[0;34m(\u001b[0m\u001b[0mconnection\u001b[0m\u001b[0;34m,\u001b[0m \u001b[0mpopular_actors\u001b[0m\u001b[0;34m,\u001b[0m \u001b[0mon\u001b[0m\u001b[0;34m=\u001b[0m\u001b[0;34m\"actorId\"\u001b[0m\u001b[0;34m)\u001b[0m\u001b[0;34m\u001b[0m\u001b[0m\n\u001b[1;32m      5\u001b[0m     \u001b[0;31m# print(actor_connection.head())\u001b[0m\u001b[0;34m\u001b[0m\u001b[0;34m\u001b[0m\u001b[0m\n",
      "\u001b[0;32m/Users/xinhezhang/anaconda2/lib/python2.7/site-packages/pandas/io/parsers.pyc\u001b[0m in \u001b[0;36mparser_f\u001b[0;34m(filepath_or_buffer, sep, delimiter, header, names, index_col, usecols, squeeze, prefix, mangle_dupe_cols, dtype, engine, converters, true_values, false_values, skipinitialspace, skiprows, nrows, na_values, keep_default_na, na_filter, verbose, skip_blank_lines, parse_dates, infer_datetime_format, keep_date_col, date_parser, dayfirst, iterator, chunksize, compression, thousands, decimal, lineterminator, quotechar, quoting, escapechar, comment, encoding, dialect, tupleize_cols, error_bad_lines, warn_bad_lines, skipfooter, skip_footer, doublequote, delim_whitespace, as_recarray, compact_ints, use_unsigned, low_memory, buffer_lines, memory_map, float_precision)\u001b[0m\n\u001b[1;32m    653\u001b[0m                     skip_blank_lines=skip_blank_lines)\n\u001b[1;32m    654\u001b[0m \u001b[0;34m\u001b[0m\u001b[0m\n\u001b[0;32m--> 655\u001b[0;31m         \u001b[0;32mreturn\u001b[0m \u001b[0m_read\u001b[0m\u001b[0;34m(\u001b[0m\u001b[0mfilepath_or_buffer\u001b[0m\u001b[0;34m,\u001b[0m \u001b[0mkwds\u001b[0m\u001b[0;34m)\u001b[0m\u001b[0;34m\u001b[0m\u001b[0m\n\u001b[0m\u001b[1;32m    656\u001b[0m \u001b[0;34m\u001b[0m\u001b[0m\n\u001b[1;32m    657\u001b[0m     \u001b[0mparser_f\u001b[0m\u001b[0;34m.\u001b[0m\u001b[0m__name__\u001b[0m \u001b[0;34m=\u001b[0m \u001b[0mname\u001b[0m\u001b[0;34m\u001b[0m\u001b[0m\n",
      "\u001b[0;32m/Users/xinhezhang/anaconda2/lib/python2.7/site-packages/pandas/io/parsers.pyc\u001b[0m in \u001b[0;36m_read\u001b[0;34m(filepath_or_buffer, kwds)\u001b[0m\n\u001b[1;32m    403\u001b[0m \u001b[0;34m\u001b[0m\u001b[0m\n\u001b[1;32m    404\u001b[0m     \u001b[0;31m# Create the parser.\u001b[0m\u001b[0;34m\u001b[0m\u001b[0;34m\u001b[0m\u001b[0m\n\u001b[0;32m--> 405\u001b[0;31m     \u001b[0mparser\u001b[0m \u001b[0;34m=\u001b[0m \u001b[0mTextFileReader\u001b[0m\u001b[0;34m(\u001b[0m\u001b[0mfilepath_or_buffer\u001b[0m\u001b[0;34m,\u001b[0m \u001b[0;34m**\u001b[0m\u001b[0mkwds\u001b[0m\u001b[0;34m)\u001b[0m\u001b[0;34m\u001b[0m\u001b[0m\n\u001b[0m\u001b[1;32m    406\u001b[0m \u001b[0;34m\u001b[0m\u001b[0m\n\u001b[1;32m    407\u001b[0m     \u001b[0;32mif\u001b[0m \u001b[0mchunksize\u001b[0m \u001b[0;32mor\u001b[0m \u001b[0miterator\u001b[0m\u001b[0;34m:\u001b[0m\u001b[0;34m\u001b[0m\u001b[0m\n",
      "\u001b[0;32m/Users/xinhezhang/anaconda2/lib/python2.7/site-packages/pandas/io/parsers.pyc\u001b[0m in \u001b[0;36m__init__\u001b[0;34m(self, f, engine, **kwds)\u001b[0m\n\u001b[1;32m    762\u001b[0m             \u001b[0mself\u001b[0m\u001b[0;34m.\u001b[0m\u001b[0moptions\u001b[0m\u001b[0;34m[\u001b[0m\u001b[0;34m'has_index_names'\u001b[0m\u001b[0;34m]\u001b[0m \u001b[0;34m=\u001b[0m \u001b[0mkwds\u001b[0m\u001b[0;34m[\u001b[0m\u001b[0;34m'has_index_names'\u001b[0m\u001b[0;34m]\u001b[0m\u001b[0;34m\u001b[0m\u001b[0m\n\u001b[1;32m    763\u001b[0m \u001b[0;34m\u001b[0m\u001b[0m\n\u001b[0;32m--> 764\u001b[0;31m         \u001b[0mself\u001b[0m\u001b[0;34m.\u001b[0m\u001b[0m_make_engine\u001b[0m\u001b[0;34m(\u001b[0m\u001b[0mself\u001b[0m\u001b[0;34m.\u001b[0m\u001b[0mengine\u001b[0m\u001b[0;34m)\u001b[0m\u001b[0;34m\u001b[0m\u001b[0m\n\u001b[0m\u001b[1;32m    765\u001b[0m \u001b[0;34m\u001b[0m\u001b[0m\n\u001b[1;32m    766\u001b[0m     \u001b[0;32mdef\u001b[0m \u001b[0mclose\u001b[0m\u001b[0;34m(\u001b[0m\u001b[0mself\u001b[0m\u001b[0;34m)\u001b[0m\u001b[0;34m:\u001b[0m\u001b[0;34m\u001b[0m\u001b[0m\n",
      "\u001b[0;32m/Users/xinhezhang/anaconda2/lib/python2.7/site-packages/pandas/io/parsers.pyc\u001b[0m in \u001b[0;36m_make_engine\u001b[0;34m(self, engine)\u001b[0m\n\u001b[1;32m    983\u001b[0m     \u001b[0;32mdef\u001b[0m \u001b[0m_make_engine\u001b[0m\u001b[0;34m(\u001b[0m\u001b[0mself\u001b[0m\u001b[0;34m,\u001b[0m \u001b[0mengine\u001b[0m\u001b[0;34m=\u001b[0m\u001b[0;34m'c'\u001b[0m\u001b[0;34m)\u001b[0m\u001b[0;34m:\u001b[0m\u001b[0;34m\u001b[0m\u001b[0m\n\u001b[1;32m    984\u001b[0m         \u001b[0;32mif\u001b[0m \u001b[0mengine\u001b[0m \u001b[0;34m==\u001b[0m \u001b[0;34m'c'\u001b[0m\u001b[0;34m:\u001b[0m\u001b[0;34m\u001b[0m\u001b[0m\n\u001b[0;32m--> 985\u001b[0;31m             \u001b[0mself\u001b[0m\u001b[0;34m.\u001b[0m\u001b[0m_engine\u001b[0m \u001b[0;34m=\u001b[0m \u001b[0mCParserWrapper\u001b[0m\u001b[0;34m(\u001b[0m\u001b[0mself\u001b[0m\u001b[0;34m.\u001b[0m\u001b[0mf\u001b[0m\u001b[0;34m,\u001b[0m \u001b[0;34m**\u001b[0m\u001b[0mself\u001b[0m\u001b[0;34m.\u001b[0m\u001b[0moptions\u001b[0m\u001b[0;34m)\u001b[0m\u001b[0;34m\u001b[0m\u001b[0m\n\u001b[0m\u001b[1;32m    986\u001b[0m         \u001b[0;32melse\u001b[0m\u001b[0;34m:\u001b[0m\u001b[0;34m\u001b[0m\u001b[0m\n\u001b[1;32m    987\u001b[0m             \u001b[0;32mif\u001b[0m \u001b[0mengine\u001b[0m \u001b[0;34m==\u001b[0m \u001b[0;34m'python'\u001b[0m\u001b[0;34m:\u001b[0m\u001b[0;34m\u001b[0m\u001b[0m\n",
      "\u001b[0;32m/Users/xinhezhang/anaconda2/lib/python2.7/site-packages/pandas/io/parsers.pyc\u001b[0m in \u001b[0;36m__init__\u001b[0;34m(self, src, **kwds)\u001b[0m\n\u001b[1;32m   1603\u001b[0m         \u001b[0mkwds\u001b[0m\u001b[0;34m[\u001b[0m\u001b[0;34m'allow_leading_cols'\u001b[0m\u001b[0;34m]\u001b[0m \u001b[0;34m=\u001b[0m \u001b[0mself\u001b[0m\u001b[0;34m.\u001b[0m\u001b[0mindex_col\u001b[0m \u001b[0;32mis\u001b[0m \u001b[0;32mnot\u001b[0m \u001b[0mFalse\u001b[0m\u001b[0;34m\u001b[0m\u001b[0m\n\u001b[1;32m   1604\u001b[0m \u001b[0;34m\u001b[0m\u001b[0m\n\u001b[0;32m-> 1605\u001b[0;31m         \u001b[0mself\u001b[0m\u001b[0;34m.\u001b[0m\u001b[0m_reader\u001b[0m \u001b[0;34m=\u001b[0m \u001b[0mparsers\u001b[0m\u001b[0;34m.\u001b[0m\u001b[0mTextReader\u001b[0m\u001b[0;34m(\u001b[0m\u001b[0msrc\u001b[0m\u001b[0;34m,\u001b[0m \u001b[0;34m**\u001b[0m\u001b[0mkwds\u001b[0m\u001b[0;34m)\u001b[0m\u001b[0;34m\u001b[0m\u001b[0m\n\u001b[0m\u001b[1;32m   1606\u001b[0m \u001b[0;34m\u001b[0m\u001b[0m\n\u001b[1;32m   1607\u001b[0m         \u001b[0;31m# XXX\u001b[0m\u001b[0;34m\u001b[0m\u001b[0;34m\u001b[0m\u001b[0m\n",
      "\u001b[0;32mpandas/_libs/parsers.pyx\u001b[0m in \u001b[0;36mpandas._libs.parsers.TextReader.__cinit__ (pandas/_libs/parsers.c:4209)\u001b[0;34m()\u001b[0m\n",
      "\u001b[0;32mpandas/_libs/parsers.pyx\u001b[0m in \u001b[0;36mpandas._libs.parsers.TextReader._setup_parser_source (pandas/_libs/parsers.c:8873)\u001b[0;34m()\u001b[0m\n",
      "\u001b[0;31mIOError\u001b[0m: File connection.csv does not exist"
     ]
    }
   ],
   "source": [
    "def popular_actors_connection():\n",
    "    popular_actors= pd.read_csv(\"popular_actor_top100.csv\", usecols=['actorId', 'primaryName', 'popularity', 'averRating', 'gender', 'p_index'])\n",
    "    connection= pd.read_csv(\"connection.csv\", usecols=['actorId', 'connection'])\n",
    "    actor_connection=pd.merge(connection, popular_actors, on=\"actorId\")\n",
    "    # print(actor_connection.head())\n",
    "    popular_id=actor_connection.actorId.tolist()\n",
    "    from ast import literal_eval\n",
    "    actor_connection.connection=actor_connection.connection.apply(literal_eval)\n",
    "\n",
    "    def f(x):\n",
    "        res=[item for item in x if item in popular_id]\n",
    "        return res\n",
    "\n",
    "    def replace_name(x):\n",
    "        res=[]\n",
    "        for actorId in x:\n",
    "            res.append(actor_connection.loc[actor_connection['actorId']==actorId].primaryName.values[0])\n",
    "        return res\n",
    "    actor_connection.connection= actor_connection.connection.apply(f)\n",
    "    actor_connection.connection= actor_connection.connection.apply(replace_name)\n",
    "    actor_connection.to_csv(\"popular_actor_connection_100.csv\", index=False)\n",
    "\n",
    "\n",
    "def add_edge_name():\n",
    "    popular_actors = pd.read_csv(\"popular_actor_top100.csv\",\n",
    "                                 usecols=['actorId'])\n",
    "    connection = pd.read_csv(\"connection.csv\", usecols=['actorId', 'connection'])\n",
    "\n",
    "    actor_connection = pd.merge(connection, popular_actors, on=\"actorId\")\n",
    "    # print(actor_connection.head())\n",
    "    popular_id = actor_connection.actorId.tolist()\n",
    "    from ast import literal_eval\n",
    "    actor_connection.connection = actor_connection.connection.apply(literal_eval)\n",
    "\n",
    "    def f(x):\n",
    "        res = [item for item in x if item in popular_id]\n",
    "        return res\n",
    "\n",
    "    actor_connection.connection = actor_connection.connection.apply(f)\n",
    "\n",
    "    movie_titles=pd.read_csv(\"originalData/movie_basic_info.csv\", usecols=['tconst', 'titleType', 'primaryTitle'], delimiter='\\t', encoding='utf-8')\n",
    "\n",
    "    movie_titles=movie_titles[movie_titles['titleType']=='movie']\n",
    "    movie_titles.drop('titleType', inplace=True, axis='columns')\n",
    "\n",
    "    title_dict= Series(movie_titles.primaryTitle.values, index=movie_titles.tconst).to_dict()\n",
    "\n",
    "    actor_info= pd.read_csv(\"data_actor.csv\", usecols=['actorId','movies'])\n",
    "    from ast import literal_eval\n",
    "    actor_info['movies']=actor_info.movies.apply(literal_eval)\n",
    "\n",
    "    def get_edge(row):\n",
    "        edge=[]\n",
    "        index_1= row.actorId\n",
    "        movie_set_1=set(actor_info[actor_info['actorId']==index_1].movies.iloc[0])\n",
    "\n",
    "        for index_2 in row.connection:\n",
    "            if index_1==index_2:\n",
    "                edge.append(\"None\")\n",
    "                continue\n",
    "            movie_set_2= set(actor_info[actor_info['actorId']==index_2].movies.iloc[0])\n",
    "            common_movies= movie_set_1&movie_set_2\n",
    "            movie_edge=next(iter(common_movies))\n",
    "            movie_edge=title_dict.get(movie_edge)\n",
    "            edge.append(movie_edge)\n",
    "        return edge\n",
    "    actor_connection['common_movies']=actor_connection.apply(get_edge, axis=1)\n",
    "    actor_connection.to_csv(\"edges.csv\", index= False)\n",
    "\n",
    "def merge_edge():\n",
    "    edges= pd.read_csv(\"edges.csv\", usecols=[\"actorId\", \"common_movies\"])\n",
    "    actor_connection=pd.read_csv(\"popular_actor_connection_100_raw.csv\")\n",
    "    actor_connection= pd.merge(edges, actor_connection, on=\"actorId\")\n",
    "    actor_connection.sort_values(\"p_index\", inplace=True, ascending=False)\n",
    "    actor_connection.to_csv(\"graph_100.csv\", index=False)\n",
    "\n",
    "\n",
    "if __name__==\"__main__\":\n",
    "    popular_actors_connection()\n",
    "    add_edge_name()\n",
    "    merge_edge()"
   ]
  },
  {
   "cell_type": "markdown",
   "metadata": {},
   "source": [
    "## Network visualization"
   ]
  },
  {
   "cell_type": "markdown",
   "metadata": {},
   "source": [
    "In the previous step, we have all the data needed here. Now it's time for us to analyze the data and perform some visualization.\n",
    "\n",
    "We will use bokeh/d3.js and networkx to perform visualization here."
   ]
  },
  {
   "cell_type": "code",
   "execution_count": 7,
   "metadata": {
    "collapsed": true
   },
   "outputs": [],
   "source": [
    "import pandas as pd\n",
    "from pandas import Series\n",
    "import networkx\n",
    "from ast import literal_eval\n",
    "import math\n"
   ]
  },
  {
   "cell_type": "code",
   "execution_count": 8,
   "metadata": {},
   "outputs": [
    {
     "data": {
      "text/html": [
       "<div>\n",
       "<style>\n",
       "    .dataframe thead tr:only-child th {\n",
       "        text-align: right;\n",
       "    }\n",
       "\n",
       "    .dataframe thead th {\n",
       "        text-align: left;\n",
       "    }\n",
       "\n",
       "    .dataframe tbody tr th {\n",
       "        vertical-align: top;\n",
       "    }\n",
       "</style>\n",
       "<table border=\"1\" class=\"dataframe\">\n",
       "  <thead>\n",
       "    <tr style=\"text-align: right;\">\n",
       "      <th></th>\n",
       "      <th>actorId</th>\n",
       "      <th>common_movies</th>\n",
       "      <th>connection</th>\n",
       "      <th>actor_name</th>\n",
       "      <th>gender</th>\n",
       "      <th>score</th>\n",
       "    </tr>\n",
       "  </thead>\n",
       "  <tbody>\n",
       "    <tr>\n",
       "      <th>0</th>\n",
       "      <td>nm0000093</td>\n",
       "      <td>[The Mexican, Twelve Monkeys, Sinbad: Legend o...</td>\n",
       "      <td>[J.K. Simmons, Bruce Willis, Michelle Pfeiffer...</td>\n",
       "      <td>Brad Pitt</td>\n",
       "      <td>2</td>\n",
       "      <td>13.046934</td>\n",
       "    </tr>\n",
       "    <tr>\n",
       "      <th>1</th>\n",
       "      <td>nm0000158</td>\n",
       "      <td>[The Ladykillers, The Bonfire of the Vanities,...</td>\n",
       "      <td>[J.K. Simmons, Bruce Willis, Leonardo DiCaprio...</td>\n",
       "      <td>Tom Hanks</td>\n",
       "      <td>2</td>\n",
       "      <td>10.635981</td>\n",
       "    </tr>\n",
       "    <tr>\n",
       "      <th>2</th>\n",
       "      <td>nm0000148</td>\n",
       "      <td>[What Lies Beneath, The Devil's Own, Morning G...</td>\n",
       "      <td>[Michelle Pfeiffer, Brad Pitt, Rachel McAdams,...</td>\n",
       "      <td>Harrison Ford</td>\n",
       "      <td>2</td>\n",
       "      <td>14.419894</td>\n",
       "    </tr>\n",
       "    <tr>\n",
       "      <th>3</th>\n",
       "      <td>nm0000354</td>\n",
       "      <td>[Jason Bourne, The Rainmaker, Dogma, All the P...</td>\n",
       "      <td>[Alicia Vikander, Claire Danes, Ben Affleck, P...</td>\n",
       "      <td>Matt Damon</td>\n",
       "      <td>2</td>\n",
       "      <td>11.599721</td>\n",
       "    </tr>\n",
       "    <tr>\n",
       "      <th>4</th>\n",
       "      <td>nm0000151</td>\n",
       "      <td>[The Sum of All Fears, RED, Se7en, Lucy, Wante...</td>\n",
       "      <td>[Ben Affleck, Bruce Willis, Brad Pitt, Scarlet...</td>\n",
       "      <td>Morgan Freeman</td>\n",
       "      <td>2</td>\n",
       "      <td>14.354621</td>\n",
       "    </tr>\n",
       "  </tbody>\n",
       "</table>\n",
       "</div>"
      ],
      "text/plain": [
       "     actorId                                      common_movies  \\\n",
       "0  nm0000093  [The Mexican, Twelve Monkeys, Sinbad: Legend o...   \n",
       "1  nm0000158  [The Ladykillers, The Bonfire of the Vanities,...   \n",
       "2  nm0000148  [What Lies Beneath, The Devil's Own, Morning G...   \n",
       "3  nm0000354  [Jason Bourne, The Rainmaker, Dogma, All the P...   \n",
       "4  nm0000151  [The Sum of All Fears, RED, Se7en, Lucy, Wante...   \n",
       "\n",
       "                                          connection      actor_name  gender  \\\n",
       "0  [J.K. Simmons, Bruce Willis, Michelle Pfeiffer...       Brad Pitt       2   \n",
       "1  [J.K. Simmons, Bruce Willis, Leonardo DiCaprio...       Tom Hanks       2   \n",
       "2  [Michelle Pfeiffer, Brad Pitt, Rachel McAdams,...   Harrison Ford       2   \n",
       "3  [Alicia Vikander, Claire Danes, Ben Affleck, P...      Matt Damon       2   \n",
       "4  [Ben Affleck, Bruce Willis, Brad Pitt, Scarlet...  Morgan Freeman       2   \n",
       "\n",
       "       score  \n",
       "0  13.046934  \n",
       "1  10.635981  \n",
       "2  14.419894  \n",
       "3  11.599721  \n",
       "4  14.354621  "
      ]
     },
     "execution_count": 8,
     "metadata": {},
     "output_type": "execute_result"
    }
   ],
   "source": [
    "actor_connection=pd.read_csv(\"graph_100.csv\", usecols=['primaryName', 'popularity', 'gender', 'connection','common_movies', 'actorId'])\n",
    "actor_connection.connection=actor_connection.connection.apply(literal_eval)\n",
    "actor_connection.common_movies= actor_connection.common_movies.apply(literal_eval)\n",
    "actor_connection.columns=['actorId', 'common_movies', 'connection', 'actor_name', 'gender', 'score']\n",
    "actor_connection.head()"
   ]
  },
  {
   "cell_type": "code",
   "execution_count": 9,
   "metadata": {},
   "outputs": [
    {
     "name": "stdout",
     "output_type": "stream",
     "text": [
      "Name: \n",
      "Type: Graph\n",
      "Number of nodes: 100\n",
      "Number of edges: 451\n",
      "Average degree:   9.0200\n",
      "set([\"Dylan O'Brien\"])\n"
     ]
    }
   ],
   "source": [
    "import networkx as nx\n",
    "actor_scores= actor_connection.score.tolist()\n",
    "actor_gender= actor_connection.gender.tolist()\n",
    "actor_names=  actor_connection.actor_name.tolist()\n",
    "G=nx.Graph()\n",
    "for actor, score, gender in zip(actor_names, actor_scores, actor_gender):\n",
    "    G.add_node(actor, score=score, gender=gender)\n",
    "    \n",
    "\n",
    "for index, row in actor_connection.iterrows():\n",
    "    for actor, movie in zip(row.connection, row.common_movies):\n",
    "        if actor != row.actor_name:\n",
    "            G.add_edge(row.actor_name, actor, name=movie)\n",
    "print(nx.info(G))\n",
    "\n",
    "'''\n",
    "remove the subgraph here.\n",
    "'''\n",
    "for component in list(nx.connected_components(G)):\n",
    "    if len(component)<3:\n",
    "        print(component)\n",
    "        for node in component:\n",
    "            G.remove_node(node)\n"
   ]
  },
  {
   "cell_type": "markdown",
   "metadata": {},
   "source": [
    "### Some info about the graph"
   ]
  },
  {
   "cell_type": "code",
   "execution_count": 10,
   "metadata": {},
   "outputs": [
    {
     "name": "stdout",
     "output_type": "stream",
     "text": [
      "('The Graph is biconnected? ', False)\n",
      "set(['J.K. Simmons', 'Melissa Benoist'])\n",
      "set(['Anna Kendrick', 'Alicia Vikander', 'Liam Neeson', 'Idris Elba', 'James McAvoy', 'Angelina Jolie', 'Matt Damon', 'Sally Hawkins', 'Rachel McAdams', 'Benedict Cumberbatch', 'Chris Hemsworth', 'Andy Serkis', 'Vin Diesel', 'Jared Leto', 'Katherine Heigl', 'Natalie Portman', 'Edward Norton', 'Robin Wright', 'Dakota Fanning', 'Nicolas Cage', 'Will Smith', 'Bruce Willis', 'Henry Cavill', 'Mark Ruffalo', 'Jennifer Aniston', 'Arnold Schwarzenegger', 'Pen\\xc3\\xa9lope Cruz', 'Scarlett Johansson', 'Michael Shannon', 'Mark Wahlberg', 'Michelle Pfeiffer', 'Charlize Theron', 'Diane Lane', 'Chris Pratt', 'Rose Byrne', 'Jessica Chastain', 'Harrison Ford', 'Eva Green', 'Jake Gyllenhaal', 'Jason Statham', 'Zac Efron', 'Dustin Hoffman', 'Leonardo DiCaprio', 'Al Pacino', 'Ewan McGregor', 'Robert Downey Jr.', 'Ben Affleck', 'Tom Cruise', 'Samuel L. Jackson', 'Winona Ryder', 'J.K. Simmons', 'Pierce Brosnan', 'Chlo\\xc3\\xab Grace Moretz', 'Sylvester Stallone', 'Mary Elizabeth Winstead', 'Claire Danes', 'Michael Fassbender', 'Jeremy Irons', 'Cate Blanchett', 'Freddie Highmore', 'Morgan Freeman', 'Emma Watson', 'George Clooney', 'Gary Oldman', 'Keanu Reeves', 'Milla Jovovich', 'Kristen Bell', 'Tom Hiddleston', 'Daniel Craig', 'Josh Brolin', 'Tom Hardy', 'Johnny Depp', 'Jennifer Jason Leigh', 'Monica Bellucci', 'Daniel Radcliffe', 'Brad Pitt', 'Emma Stone', 'Ice Cube', 'Jessica Alba', 'Dwayne Johnson', 'Mel Gibson', 'Sam Rockwell', 'Sandra Bullock', 'Gerard Butler', 'Sean Bean', 'James Franco', 'Jennifer Lawrence', 'Julia Roberts', 'John Travolta', 'Jackie Chan', 'Salma Hayek', 'Chris Evans', 'Tom Hanks', 'Clint Eastwood', 'Kristen Stewart', 'Adam Sandler', 'Hugh Jackman', 'Sean Connery'])\n"
     ]
    }
   ],
   "source": [
    "print(\"The Graph is biconnected? \", nx.is_biconnected(G))\n",
    "bicomponents= list(nx.biconnected_components(G))\n",
    "for component in bicomponents:\n",
    "    print(component)"
   ]
  },
  {
   "cell_type": "code",
   "execution_count": 11,
   "metadata": {},
   "outputs": [
    {
     "name": "stdout",
     "output_type": "stream",
     "text": [
      "('The average clustering:', 0.1758173935254336)\n",
      "('The density:', 0.09297052154195011)\n",
      "('The  max distance between two actors:', 4)\n",
      "('The average distance between two actors:', 2.344877344877345)\n",
      "           actor_name  pagerank\n",
      "31    Charlize Theron  0.022732\n",
      "6          Matt Damon  0.021739\n",
      "48  Samuel L. Jackson  0.021082\n",
      "21       Bruce Willis  0.019294\n",
      "58     Cate Blanchett  0.018458\n",
      "47       Nicolas Cage  0.017900\n",
      "30  Michelle Pfeiffer  0.017688\n",
      "35   Jessica Chastain  0.016863\n",
      "60     Morgan Freeman  0.016631\n",
      "49       Winona Ryder  0.016085\n",
      "           actor_name      hits\n",
      "6          Matt Damon  0.026992\n",
      "48  Samuel L. Jackson  0.023012\n",
      "21       Bruce Willis  0.022983\n",
      "31    Charlize Theron  0.022257\n",
      "74          Brad Pitt  0.021864\n",
      "58     Cate Blanchett  0.021090\n",
      "60     Morgan Freeman  0.020235\n",
      "17       Robin Wright  0.019372\n",
      "13    Natalie Portman  0.018573\n",
      "5      Angelina Jolie  0.018079\n"
     ]
    }
   ],
   "source": [
    "print(\"The average clustering:\", nx.average_clustering(G))\n",
    "print(\"The density:\", nx.density(G))\n",
    "#The max distance between two actors\n",
    "print(\"The  max distance between two actors:\", nx.diameter(G))\n",
    "# The average distance between two actors\n",
    "print(\"The average distance between two actors:\", nx.average_shortest_path_length(G))\n",
    "\n",
    "# pagerank\n",
    "import numpy as np\n",
    "pagerank= nx.pagerank_numpy(G)\n",
    "pagerank= pd.DataFrame.from_dict(pagerank, orient='index').reset_index()\n",
    "pagerank.columns=['actor_name', 'pagerank']\n",
    "print(pagerank.sort_values('pagerank', ascending=False).head(10))\n",
    "\n",
    "# hits analysis\n",
    "hits= nx.hits_scipy(G, max_iter= 1000)[0]\n",
    "hits=pd.DataFrame.from_dict(hits, orient='index').reset_index()\n",
    "hits.columns=['actor_name', 'hits']\n",
    "print(hits.sort_values('hits', ascending= False).head(10))"
   ]
  },
  {
   "cell_type": "code",
   "execution_count": 12,
   "metadata": {},
   "outputs": [
    {
     "name": "stdout",
     "output_type": "stream",
     "text": [
      "['Jackie Chan', 'Angelina Jolie', 'Brad Pitt']\n",
      "('Jackie Chan and Angelina Jolie in movie:', 'Kung Fu Panda 2')\n",
      "('Angelina Jolie and Brad Pitt in movie:', 'Mr. & Mrs. Smith')\n"
     ]
    }
   ],
   "source": [
    "name=nx.get_edge_attributes(G, 'name')\n",
    "print(nx.shortest_path(G, \"Jackie Chan\", \"Brad Pitt\"))\n",
    "source=\"Jackie Chan\"\n",
    "target=\"Brad Pitt\"\n",
    "path=nx.shortest_path(G, source, target)\n",
    "for i in range(len(path)-1):\n",
    "    try:\n",
    "        common_movie= name[(path[i], path[i+1])]\n",
    "    except:\n",
    "        common_movie= name[(path[i+1], path[i])]\n",
    "    print(path[i]+\" and \"+path[i+1]+\" in movie:\", common_movie)"
   ]
  },
  {
   "cell_type": "code",
   "execution_count": 13,
   "metadata": {},
   "outputs": [
    {
     "data": {
      "image/png": "[encoded data removed]",
      "text/plain": [
       "<matplotlib.figure.Figure at 0x1512358050>"
      ]
     },
     "metadata": {},
     "output_type": "display_data"
    }
   ],
   "source": [
    "import matplotlib.pyplot as plt\n",
    "\n",
    "degrees= list(dict(G.degree()).values())\n",
    "values=sorted(set(degrees))\n",
    "degree_hist=[degrees.count(x) for x in values]\n",
    "\n",
    "plt.figure()\n",
    "plt.plot(values, degree_hist)\n",
    "plt.xlabel('Degree')\n",
    "plt.ylabel('Number of nodes')\n",
    "plt.title('Movie stars Network')\n",
    "plt.show()\n",
    "plt.savefig('degree_distribution.png')\n",
    "plt.close()"
   ]
  },
  {
   "cell_type": "code",
   "execution_count": 14,
   "metadata": {},
   "outputs": [],
   "source": [
    "import bokeh\n",
    "from bokeh.io import show, output_file\n",
    "from bokeh.plotting import figure\n",
    "from bokeh.plotting import figure\n",
    "from bokeh.models.graphs import from_networkx\n",
    "\n",
    "plot= figure(title=\"Networkx Integration Demonstration\", x_range=(-10,10), y_range=(-10,10),\n",
    "              tools=\"\", toolbar_location=None)\n",
    "graph= from_networkx(G, nx.spring_layout, scale=10, center=(0,0))\n",
    "plot.renderers.append(graph)\n",
    "output_file(\"network_graph_100.html\")\n",
    "show(plot)"
   ]
  },
  {
   "cell_type": "markdown",
   "metadata": {},
   "source": [
    "Save as json to show Interactive Graph"
   ]
  },
  {
   "cell_type": "code",
   "execution_count": 15,
   "metadata": {
    "collapsed": true
   },
   "outputs": [],
   "source": [
    "from networkx.readwrite import json_graph\n",
    "import json\n",
    "data= json_graph.node_link_data(G)\n",
    "with open('graph_100.json', 'w') as f:\n",
    "    json.dump(data, f, indent=2)"
   ]
  },
  {
   "cell_type": "markdown",
   "metadata": {},
   "source": [
    "## Interactive Graph(Still Debugging)"
   ]
  },
  {
   "cell_type": "markdown",
   "metadata": {
    "collapsed": true
   },
   "source": [
    "Check the other folder: network visulization"
   ]
  },
  {
   "cell_type": "code",
   "execution_count": null,
   "metadata": {
    "collapsed": true
   },
   "outputs": [],
   "source": []
  },
  {
   "cell_type": "code",
   "execution_count": null,
   "metadata": {
    "collapsed": true
   },
   "outputs": [],
   "source": []
  }
 ],
 "metadata": {
  "kernelspec": {
   "display_name": "Python 2",
   "language": "python",
   "name": "python2"
  },
  "language_info": {
   "codemirror_mode": {
    "name": "ipython",
    "version": 2
   },
   "file_extension": ".py",
   "mimetype": "text/x-python",
   "name": "python",
   "nbconvert_exporter": "python",
   "pygments_lexer": "ipython2",
   "version": "2.7.14"
  }
 },
 "nbformat": 4,
 "nbformat_minor": 2
}
