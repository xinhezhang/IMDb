{
 "cells": [
  {
   "cell_type": "markdown",
   "metadata": {},
   "source": [
    "# Popular Movie Stars\n",
    "## Objective\n",
    "1. Get the most popular stars according to his/her rating and valid movie account;\n",
    "2. Have some insight into the network between popular actors;"
   ]
  },
  {
   "cell_type": "markdown",
   "metadata": {},
   "source": [
    "## Step 1: Clean the data\n",
    "Since we only have the data of movie-actor pair and the movie/actor info, the first step is to merge and clean the data here."
   ]
  },
  {
   "cell_type": "markdown",
   "metadata": {},
   "source": [
    " ###  filter the record which is not 'movie'"
   ]
  },
  {
   "cell_type": "code",
   "execution_count": null,
   "metadata": {
    "collapsed": true
   },
   "outputs": [],
   "source": [
    "import pandas as pd\n",
    "from pandas import DataFrame, Series\n",
    "\n",
    "\n",
    "def simplify_data():\n",
    "\n",
    "    # filter the non-movie kind and merge movie name into the record\n",
    "    title_movie_only = pd.read_csv('./originalData/movie_basic_info.csv', delimiter='\\t', encoding='utf-8',\n",
    "                               usecols=['tconst', 'titleType', 'primaryTitle'])\n",
    "    title_movie_only = title_movie_only[title_movie_only['titleType'] == 'movie']\n",
    "    title_movie_only.drop('titleType', inplace=True, axis='columns')\n",
    "\n",
    "    data=pd.read_csv('../originalData/principle.csv', delimiter='\\t', encoding='utf-8', usecols=['tconst', 'nconst', 'category'])\n",
    "    data = data[data['category'].isin(['actor', 'actress'])]\n",
    "    data.drop('category', inplace=True, axis='columns')\n",
    "    data = pd.merge(title_movie_only, data, on='tconst')\n",
    "\n",
    "    #  merge the name of actor\n",
    "    name = pd.read_csv('./originalData/actor_basic_info.csv', delimiter='\\t', encoding='utf-8', usecols=['nconst', 'primaryName'])\n",
    "    data = pd.merge(name, data, on='nconst')\n",
    "    data.columns=['actorId', 'actorName', 'movieId', 'movieTitle']\n",
    "\n",
    "    print(data.head())\n",
    "    data.to_csv(\"data_simplified.csv\", index= False)"
   ]
  },
  {
   "cell_type": "markdown",
   "metadata": {},
   "source": [
    "### group the data by movie Id and actor Id, hence we got the cast of one movie and the movies one actor is in."
   ]
  },
  {
   "cell_type": "code",
   "execution_count": null,
   "metadata": {
    "collapsed": true
   },
   "outputs": [],
   "source": [
    "def group_data():\n",
    "    data=pd.read_csv('data_simplified.csv', usecols=['movieId', 'actorId'])\n",
    "\n",
    "    '''\n",
    "    Group the data by ActorId\n",
    "    '''\n",
    "    data_actor=data.groupby('actorId')['movieId'].apply(list)\n",
    "    data_actor=data_actor.reset_index()\n",
    "    data_actor.columns=['actorId', 'movies']\n",
    "    data_actor['count']= data_actor.movies.apply(lambda x: len(x))\n",
    "    data_actor= data_actor.sort_values('count', ascending=False)\n",
    "    data_actor.to_csv('data_actor.csv', index=False)\n",
    "\n",
    "    '''\n",
    "    Print the actor who has the most screen credit\n",
    "    '''\n",
    "    name = pd.read_csv('actor_name.csv', delimiter='\\t', encoding='utf-8', usecols=['nconst', 'primaryName'])\n",
    "    name.columns=['actorId', 'primaryName']\n",
    "    actor_top_10_num= data_actor[0:20]\n",
    "    actor_top_10_num= pd.merge(name, actor_top_10_num, on='actorId')\n",
    "    actor_top_10_num= actor_top_10_num.sort_values('count', ascending=False)\n",
    "    print(actor_top_10_num[['primaryName', 'actorId']])\n",
    "\n",
    "\n",
    "    '''\n",
    "    Group the data by MovieId\n",
    "    '''\n",
    "    data_movie=data.groupby('movieId')['actorId'].apply(list)\n",
    "    data_movie=data_movie.reset_index()\n",
    "    data_movie.columns=['movieId', 'actors']\n",
    "    data_movie.to_csv('data_movie.csv', index= False)\n",
    "\n",
    "\n",
    "    '''\n",
    "    Create the Connection Graph:\n",
    "        We think that if two actors appeared in the same movie, then the two actors are connected, here we want to find the \n",
    "        connection Graph \n",
    "    '''\n",
    "    def get_connection(movieList):\n",
    "        actor_in_movies=list(set([a for b in data_movie[data_movie['movieId'].isin(movieList)].actors.tolist() for a in b]))\n",
    "        return actor_in_movies\n",
    "\n",
    "    data_actor['connection']=data_actor['movies'].apply(get_connection)\n",
    "    data_actor.to_csv('connection.csv', columns=['actorId', 'connection'])"
   ]
  },
  {
   "cell_type": "markdown",
   "metadata": {},
   "source": [
    "### Merge the actor info and movie info into the data we get above"
   ]
  },
  {
   "cell_type": "code",
   "execution_count": null,
   "metadata": {
    "collapsed": true
   },
   "outputs": [],
   "source": [
    "def merge_movie_data():\n",
    "    '''\n",
    "\n",
    "    here we merge data to the form of:  movieId,  actors, rating, numVotes, title\n",
    "    '''\n",
    "\n",
    "    title_movie_only = pd.read_csv('./originalData/movie_basic_info.csv', delimiter='\\t', encoding='utf-8',\n",
    "                                   usecols=['tconst', 'titleType', 'primaryTitle'])\n",
    "    title_movie_only = title_movie_only[title_movie_only['titleType'] == 'movie']\n",
    "    title_movie_only.drop('titleType', inplace=True, axis='columns')\n",
    "    title_movie_only.columns=['movieId', 'title']\n",
    "\n",
    "\n",
    "    rating_info = pd.read_csv('originalData/movie_rating_info.csv', delimiter='\\t', encoding='utf-8')\n",
    "    rating_info.columns = ['movieId', 'rating', 'numVotes']\n",
    "\n",
    "    data_movie = pd.read_csv('data_movie.csv')\n",
    "    # from ast import literal_eval\n",
    "    # data_movie.actors = data_movie.actors.apply(literal_eval())\n",
    "\n",
    "    data_movie= pd.merge(data_movie, rating_info, on='movieId')\n",
    "    data_movie= pd.merge(data_movie, title_movie_only, on='movieId')\n",
    "    data_movie.to_csv('movieInfo.csv', index= False)\n",
    "\n",
    "def merge_actor_data():\n",
    "    actor_info=pd.read_csv('originalData/actor_basic_info.csv', delimiter='\\t', encoding='utf-8')\n",
    "    actor_info.columns=['actorId', 'primaryName', 'birthYear', 'deathYear', 'primaryProfession', 'knownForTitles']\n",
    "    data_actor= pd.read_csv('actor_rating.csv')\n",
    "\n",
    "    actor_info=pd.merge(data_actor, actor_info, on='actorId')\n",
    "    actor_info.to_csv('actor_info.csv', columns=['actorId', 'primaryName', 'birthYear', 'deathYear', 'ratings','numVotes','count'], index=False)\n",
    "\n",
    "def get_actor_rating_votes():\n",
    "    movie_info=pd.read_csv('movieInfo.csv')\n",
    "    data_actor= pd.read_csv('data_actor.csv')\n",
    "\n",
    "    from ast import literal_eval\n",
    "    data_actor.movies= data_actor.movies.apply(literal_eval)\n",
    "\n",
    "    def get_rating(movieList):\n",
    "        df=movie_info[movie_info['movieId'].isin(movieList)]\n",
    "        ratings=df.rating.tolist()\n",
    "        numVotes=df.numVotes.tolist()\n",
    "        return ratings, numVotes\n",
    "    data_actor['ratings'], data_actor['numVotes'] = zip(*data_actor['movies'].map(get_rating))\n",
    "    data_actor.to_csv('actor_rating.csv', columns=['actorId', 'ratings', 'numVotes', 'count'], index= False)"
   ]
  },
  {
   "cell_type": "markdown",
   "metadata": {},
   "source": [
    "## Step 2: Get popular actors and their connection "
   ]
  },
  {
   "cell_type": "markdown",
   "metadata": {},
   "source": [
    "Sort the actors according to their rating and number of vote:"
   ]
  },
  {
   "cell_type": "code",
   "execution_count": null,
   "metadata": {
    "collapsed": true
   },
   "outputs": [],
   "source": [
    "def rating_analysis():\n",
    "    '''\n",
    "    analysis the actor who has the most numVotes and rating\n",
    "    '''\n",
    "    actor_info= pd.read_csv(\"actor_info.csv\", usecols=['actorId', 'ratings', 'numVotes', 'count', 'primaryName'])\n",
    "    from ast import literal_eval\n",
    "    actor_info.numVotes=actor_info.numVotes.apply(literal_eval)\n",
    "    actor_info.ratings=actor_info.ratings.apply(literal_eval)\n",
    "    def get_aver_rating(x):\n",
    "        return  sum(x.ratings)/x['count']\n",
    "    def get_aver_vote(x):\n",
    "        return sum(x.numVotes)/x['count']\n",
    "    actor_info['averRating']=actor_info.apply(get_aver_rating, axis=1)\n",
    "    actor_info['averVote']=actor_info.apply(get_aver_vote, axis= 1)\n",
    "    actor_info['validCount']=actor_info.ratings.apply(lambda x: len(x))\n",
    "    actor_info= actor_info[actor_info['validCount']>=3]\n",
    "    actor_info= actor_info[actor_info['averVote']>=100]\n",
    "    actor_info.sort_values('averRating', ascending=False, inplace=True)\n",
    "    actor_info.to_csv('actor_rating_sorted.csv', index= False)\n",
    "    actor_info.sort_values('averVote', ascending=False, inplace= True)\n",
    "    actor_info.to_csv('actor_vote_sorted.csv', index=False)"
   ]
  },
  {
   "cell_type": "markdown",
   "metadata": {},
   "source": [
    "Here, we have to define the popularity and get the top 100, since we will need information of popularity and some more info(like gender and so on), TMDB database api was introduced here."
   ]
  },
  {
   "cell_type": "code",
   "execution_count": null,
   "metadata": {
    "collapsed": true
   },
   "outputs": [],
   "source": [
    "def get_popular_actors():\n",
    "    '''\n",
    "    datameta: actorId,primaryName,birthYear,deathYear,ratings,numVotes,count\n",
    "    we use create a new index: log(averRating*averVote*validCount) to indicate the popularity\n",
    "    or we can just use the popularity in TMDB\n",
    "    '''\n",
    "    actor_info=pd.read_csv(\"actor_rating_sorted.csv\")\n",
    "    def get_p_index(x):\n",
    "        return round(x['validCount']*x['averRating']*x['averVote']*x['averRating']/10000000)\n",
    "    actor_info['p_index']=actor_info.apply(get_p_index, axis=1)\n",
    "    actor_info.sort_values('p_index', ascending=False, inplace=True)\n",
    "    # get some range here.\n",
    "    actor_info= actor_info[0:1000]\n",
    "    def get_actor_info(actorId):\n",
    "        import requests\n",
    "        import time\n",
    "        time.sleep(0.5)\n",
    "        url=\"https://api.themoviedb.org/3/find/\"+actorId+\"?api_key=af799a17781878f440e337ad70ea9713&language=en-US&external_source=imdb_id\"\n",
    "        response= requests.get(url)\n",
    "        if response.status_code==200:\n",
    "            tmdb_id=response.json().get(\"person_results\")[0].get(\"id\")\n",
    "            url=\"https://api.themoviedb.org/3/person/\"+str(tmdb_id)+\"?api_key=af799a17781878f440e337ad70ea9713&language=en-US\"\n",
    "            more_info=requests.get(url)\n",
    "            if more_info.status_code==200:\n",
    "                more_info= more_info.json()\n",
    "                return (more_info.get(\"gender\"),more_info.get(\"popularity\"))\n",
    "            else:\n",
    "                print(\"Connection error\")\n",
    "        else:\n",
    "            print(\"Connection Error\")\n",
    "    actor_info['gender'], actor_info['popularity']=zip(*actor_info.actorId.map(get_actor_info))\n",
    "    actor_info.sort_values(\"popularity\", inplace=True, ascending=False)\n",
    "    actor_info[0:100].to_csv('popular_actor_top100.csv', index=False)\n"
   ]
  },
  {
   "cell_type": "markdown",
   "metadata": {},
   "source": [
    "After the above step, we have almost all the data we need, and also we got some basic info about the score and number of votes. Next step we will merge the data and get the data we use to analyze network;"
   ]
  },
  {
   "cell_type": "code",
   "execution_count": null,
   "metadata": {
    "collapsed": true
   },
   "outputs": [],
   "source": [
    "def popular_actors_connection():\n",
    "    popular_actors= pd.read_csv(\"popular_actor_top100.csv\", usecols=['actorId', 'primaryName', 'popularity', 'averRating', 'gender', 'p_index'])\n",
    "    connection= pd.read_csv(\"connection.csv\", usecols=['actorId', 'connection'])\n",
    "    actor_connection=pd.merge(connection, popular_actors, on=\"actorId\")\n",
    "    # print(actor_connection.head())\n",
    "    popular_id=actor_connection.actorId.tolist()\n",
    "    from ast import literal_eval\n",
    "    actor_connection.connection=actor_connection.connection.apply(literal_eval)\n",
    "\n",
    "    def f(x):\n",
    "        res=[item for item in x if item in popular_id]\n",
    "        return res\n",
    "\n",
    "    def replace_name(x):\n",
    "        res=[]\n",
    "        for actorId in x:\n",
    "            res.append(actor_connection.loc[actor_connection['actorId']==actorId].primaryName.values[0])\n",
    "        return res\n",
    "    actor_connection.connection= actor_connection.connection.apply(f)\n",
    "    actor_connection.connection= actor_connection.connection.apply(replace_name)\n",
    "    actor_connection.to_csv(\"popular_actor_connection_100.csv\", index=False)\n",
    "\n",
    "\n",
    "def add_edge_name():\n",
    "    popular_actors = pd.read_csv(\"popular_actor_top100.csv\",\n",
    "                                 usecols=['actorId'])\n",
    "    connection = pd.read_csv(\"connection.csv\", usecols=['actorId', 'connection'])\n",
    "\n",
    "    actor_connection = pd.merge(connection, popular_actors, on=\"actorId\")\n",
    "    # print(actor_connection.head())\n",
    "    popular_id = actor_connection.actorId.tolist()\n",
    "    from ast import literal_eval\n",
    "    actor_connection.connection = actor_connection.connection.apply(literal_eval)\n",
    "\n",
    "    def f(x):\n",
    "        res = [item for item in x if item in popular_id]\n",
    "        return res\n",
    "\n",
    "    actor_connection.connection = actor_connection.connection.apply(f)\n",
    "\n",
    "    movie_titles=pd.read_csv(\"originalData/movie_basic_info.csv\", usecols=['tconst', 'titleType', 'primaryTitle'], delimiter='\\t', encoding='utf-8')\n",
    "\n",
    "    movie_titles=movie_titles[movie_titles['titleType']=='movie']\n",
    "    movie_titles.drop('titleType', inplace=True, axis='columns')\n",
    "\n",
    "    title_dict= Series(movie_titles.primaryTitle.values, index=movie_titles.tconst).to_dict()\n",
    "\n",
    "    actor_info= pd.read_csv(\"data_actor.csv\", usecols=['actorId','movies'])\n",
    "    from ast import literal_eval\n",
    "    actor_info['movies']=actor_info.movies.apply(literal_eval)\n",
    "\n",
    "    def get_edge(row):\n",
    "        edge=[]\n",
    "        index_1= row.actorId\n",
    "        movie_set_1=set(actor_info[actor_info['actorId']==index_1].movies.iloc[0])\n",
    "\n",
    "        for index_2 in row.connection:\n",
    "            if index_1==index_2:\n",
    "                edge.append(\"None\")\n",
    "                continue\n",
    "            movie_set_2= set(actor_info[actor_info['actorId']==index_2].movies.iloc[0])\n",
    "            common_movies= movie_set_1&movie_set_2\n",
    "            movie_edge=next(iter(common_movies))\n",
    "            movie_edge=title_dict.get(movie_edge)\n",
    "            edge.append(movie_edge)\n",
    "        return edge\n",
    "    actor_connection['common_movies']=actor_connection.apply(get_edge, axis=1)\n",
    "    actor_connection.to_csv(\"edges.csv\", index= False)\n",
    "\n",
    "def merge_edge():\n",
    "    edges= pd.read_csv(\"edges.csv\", usecols=[\"actorId\", \"common_movies\"])\n",
    "    actor_connection=pd.read_csv(\"popular_actor_connection_100_raw.csv\")\n",
    "    actor_connection= pd.merge(edges, actor_connection, on=\"actorId\")\n",
    "    actor_connection.sort_values(\"p_index\", inplace=True, ascending=False)\n",
    "    actor_connection.to_csv(\"graph_100.csv\", index=False)\n",
    "\n",
    "\n",
    "if __name__==\"__main__\":\n",
    "    popular_actors_connection()\n",
    "    add_edge_name()\n",
    "    merge_edge()"
   ]
  },
  {
   "cell_type": "markdown",
   "metadata": {},
   "source": [
    "## Network visualization"
   ]
  },
  {
   "cell_type": "markdown",
   "metadata": {},
   "source": [
    "In the previous step, we have all the data needed here. Now it's time for us to analyze the data and perform some visualization.\n",
    "\n",
    "We will use bokeh/d3.js and networkx to perform visualization here."
   ]
  },
  {
   "cell_type": "code",
   "execution_count": 8,
   "metadata": {
    "collapsed": true
   },
   "outputs": [],
   "source": [
    "import pandas as pd\n",
    "from pandas import Series\n",
    "import networkx\n",
    "from ast import literal_eval\n",
    "import math\n"
   ]
  },
  {
   "cell_type": "code",
   "execution_count": 9,
   "metadata": {},
   "outputs": [
    {
     "data": {
      "text/html": [
       "<div>\n",
       "<style>\n",
       "    .dataframe thead tr:only-child th {\n",
       "        text-align: right;\n",
       "    }\n",
       "\n",
       "    .dataframe thead th {\n",
       "        text-align: left;\n",
       "    }\n",
       "\n",
       "    .dataframe tbody tr th {\n",
       "        vertical-align: top;\n",
       "    }\n",
       "</style>\n",
       "<table border=\"1\" class=\"dataframe\">\n",
       "  <thead>\n",
       "    <tr style=\"text-align: right;\">\n",
       "      <th></th>\n",
       "      <th>actorId</th>\n",
       "      <th>common_movies</th>\n",
       "      <th>connection</th>\n",
       "      <th>actor_name</th>\n",
       "      <th>gender</th>\n",
       "      <th>score</th>\n",
       "    </tr>\n",
       "  </thead>\n",
       "  <tbody>\n",
       "    <tr>\n",
       "      <th>0</th>\n",
       "      <td>nm0000093</td>\n",
       "      <td>[The Mexican, Twelve Monkeys, Sinbad: Legend o...</td>\n",
       "      <td>[J.K. Simmons, Bruce Willis, Michelle Pfeiffer...</td>\n",
       "      <td>Brad Pitt</td>\n",
       "      <td>2</td>\n",
       "      <td>13.046934</td>\n",
       "    </tr>\n",
       "    <tr>\n",
       "      <th>1</th>\n",
       "      <td>nm0000158</td>\n",
       "      <td>[The Ladykillers, The Bonfire of the Vanities,...</td>\n",
       "      <td>[J.K. Simmons, Bruce Willis, Leonardo DiCaprio...</td>\n",
       "      <td>Tom Hanks</td>\n",
       "      <td>2</td>\n",
       "      <td>10.635981</td>\n",
       "    </tr>\n",
       "    <tr>\n",
       "      <th>2</th>\n",
       "      <td>nm0000148</td>\n",
       "      <td>[What Lies Beneath, The Devil's Own, Morning G...</td>\n",
       "      <td>[Michelle Pfeiffer, Brad Pitt, Rachel McAdams,...</td>\n",
       "      <td>Harrison Ford</td>\n",
       "      <td>2</td>\n",
       "      <td>14.419894</td>\n",
       "    </tr>\n",
       "    <tr>\n",
       "      <th>3</th>\n",
       "      <td>nm0000354</td>\n",
       "      <td>[Jason Bourne, The Rainmaker, Dogma, All the P...</td>\n",
       "      <td>[Alicia Vikander, Claire Danes, Ben Affleck, P...</td>\n",
       "      <td>Matt Damon</td>\n",
       "      <td>2</td>\n",
       "      <td>11.599721</td>\n",
       "    </tr>\n",
       "    <tr>\n",
       "      <th>4</th>\n",
       "      <td>nm0000151</td>\n",
       "      <td>[The Sum of All Fears, RED, Se7en, Lucy, Wante...</td>\n",
       "      <td>[Ben Affleck, Bruce Willis, Brad Pitt, Scarlet...</td>\n",
       "      <td>Morgan Freeman</td>\n",
       "      <td>2</td>\n",
       "      <td>14.354621</td>\n",
       "    </tr>\n",
       "  </tbody>\n",
       "</table>\n",
       "</div>"
      ],
      "text/plain": [
       "     actorId                                      common_movies  \\\n",
       "0  nm0000093  [The Mexican, Twelve Monkeys, Sinbad: Legend o...   \n",
       "1  nm0000158  [The Ladykillers, The Bonfire of the Vanities,...   \n",
       "2  nm0000148  [What Lies Beneath, The Devil's Own, Morning G...   \n",
       "3  nm0000354  [Jason Bourne, The Rainmaker, Dogma, All the P...   \n",
       "4  nm0000151  [The Sum of All Fears, RED, Se7en, Lucy, Wante...   \n",
       "\n",
       "                                          connection      actor_name  gender  \\\n",
       "0  [J.K. Simmons, Bruce Willis, Michelle Pfeiffer...       Brad Pitt       2   \n",
       "1  [J.K. Simmons, Bruce Willis, Leonardo DiCaprio...       Tom Hanks       2   \n",
       "2  [Michelle Pfeiffer, Brad Pitt, Rachel McAdams,...   Harrison Ford       2   \n",
       "3  [Alicia Vikander, Claire Danes, Ben Affleck, P...      Matt Damon       2   \n",
       "4  [Ben Affleck, Bruce Willis, Brad Pitt, Scarlet...  Morgan Freeman       2   \n",
       "\n",
       "       score  \n",
       "0  13.046934  \n",
       "1  10.635981  \n",
       "2  14.419894  \n",
       "3  11.599721  \n",
       "4  14.354621  "
      ]
     },
     "execution_count": 9,
     "metadata": {},
     "output_type": "execute_result"
    }
   ],
   "source": [
    "actor_connection=pd.read_csv(\"graph_100.csv\", usecols=['primaryName', 'popularity', 'gender', 'connection','common_movies', 'actorId'])\n",
    "actor_connection.connection=actor_connection.connection.apply(literal_eval)\n",
    "actor_connection.common_movies= actor_connection.common_movies.apply(literal_eval)\n",
    "actor_connection.columns=['actorId', 'common_movies', 'connection', 'actor_name', 'gender', 'score']\n",
    "actor_connection.head()"
   ]
  },
  {
   "cell_type": "code",
   "execution_count": 10,
   "metadata": {},
   "outputs": [
    {
     "name": "stdout",
     "output_type": "stream",
     "text": [
      "Name: \n",
      "Type: Graph\n",
      "Number of nodes: 100\n",
      "Number of edges: 451\n",
      "Average degree:   9.0200\n",
      "{\"Dylan O'Brien\"}\n"
     ]
    }
   ],
   "source": [
    "import networkx as nx\n",
    "actor_scores= actor_connection.score.tolist()\n",
    "actor_gender= actor_connection.gender.tolist()\n",
    "actor_names=  actor_connection.actor_name.tolist()\n",
    "G=nx.Graph()\n",
    "for actor, score, gender in zip(actor_names, actor_scores, actor_gender):\n",
    "    G.add_node(actor, score=score, gender=gender)\n",
    "    \n",
    "\n",
    "for index, row in actor_connection.iterrows():\n",
    "    for actor, movie in zip(row.connection, row.common_movies):\n",
    "        if actor != row.actor_name:\n",
    "            G.add_edge(row.actor_name, actor, name=movie)\n",
    "print(nx.info(G))\n",
    "\n",
    "'''\n",
    "remove the subgraph here.\n",
    "'''\n",
    "for component in list(nx.connected_components(G)):\n",
    "    if len(component)<3:\n",
    "        print(component)\n",
    "        for node in component:\n",
    "            G.remove_node(node)\n"
   ]
  },
  {
   "cell_type": "markdown",
   "metadata": {},
   "source": [
    "### Some info about the graph"
   ]
  },
  {
   "cell_type": "code",
   "execution_count": 11,
   "metadata": {},
   "outputs": [
    {
     "name": "stdout",
     "output_type": "stream",
     "text": [
      "The Graph is biconnected?  False\n",
      "{'Melissa Benoist', 'J.K. Simmons'}\n",
      "{'Al Pacino', 'Dustin Hoffman', 'Angelina Jolie', 'Emma Stone', 'Milla Jovovich', 'James McAvoy', 'Charlize Theron', 'Gary Oldman', 'Tom Hanks', 'Ewan McGregor', 'Hugh Jackman', 'J.K. Simmons', 'Bruce Willis', 'Pierce Brosnan', 'Monica Bellucci', 'Jared Leto', 'Jason Statham', 'Anna Kendrick', 'Keanu Reeves', 'Jennifer Lawrence', 'Jennifer Jason Leigh', 'Claire Danes', 'Sean Bean', 'Tom Hiddleston', 'Mark Ruffalo', 'Diane Lane', 'Daniel Radcliffe', 'Benedict Cumberbatch', 'George Clooney', 'Johnny Depp', 'Tom Cruise', 'Cate Blanchett', 'Chris Hemsworth', 'Gerard Butler', 'Matt Damon', 'Sean Connery', 'Mel Gibson', 'Jeremy Irons', 'Edward Norton', 'Sylvester Stallone', 'James Franco', 'Daniel Craig', 'Harrison Ford', 'Brad Pitt', 'Scarlett Johansson', 'Arnold Schwarzenegger', 'Jessica Alba', 'Michelle Pfeiffer', 'Vin Diesel', 'Chris Pratt', 'Kristen Stewart', 'Kristen Bell', 'Rose Byrne', 'Jennifer Aniston', 'Sally Hawkins', 'Jake Gyllenhaal', 'Emma Watson', 'Henry Cavill', 'Julia Roberts', 'Samuel L. Jackson', 'John Travolta', 'Clint Eastwood', 'Liam Neeson', 'Katherine Heigl', 'Nicolas Cage', 'Adam Sandler', 'Andy Serkis', 'Idris Elba', 'Josh Brolin', 'Robin Wright', 'Mark Wahlberg', 'Sandra Bullock', 'Chloë Grace Moretz', 'Freddie Highmore', 'Robert Downey Jr.', 'Natalie Portman', 'Winona Ryder', 'Ice Cube', 'Michael Fassbender', 'Dwayne Johnson', 'Jessica Chastain', 'Zac Efron', 'Jackie Chan', 'Eva Green', 'Chris Evans', 'Dakota Fanning', 'Ben Affleck', 'Leonardo DiCaprio', 'Mary Elizabeth Winstead', 'Sam Rockwell', 'Will Smith', 'Salma Hayek', 'Penélope Cruz', 'Morgan Freeman', 'Rachel McAdams', 'Michael Shannon', 'Tom Hardy', 'Alicia Vikander'}\n"
     ]
    }
   ],
   "source": [
    "print(\"The Graph is biconnected? \", nx.is_biconnected(G))\n",
    "bicomponents= list(nx.biconnected_components(G))\n",
    "for component in bicomponents:\n",
    "    print(component)"
   ]
  },
  {
   "cell_type": "code",
   "execution_count": 30,
   "metadata": {},
   "outputs": [
    {
     "name": "stdout",
     "output_type": "stream",
     "text": [
      "The average clustering: 0.17581739352543369\n",
      "The density: 0.09297052154195011\n",
      "The  max distance between two actors: 4\n",
      "The average distance between two actors: 2.344877344877345\n",
      "           actor_name  pagerank\n",
      "28    Charlize Theron  0.022732\n",
      "3          Matt Damon  0.021739\n",
      "12  Samuel L. Jackson  0.021082\n",
      "8        Bruce Willis  0.019294\n",
      "34     Cate Blanchett  0.018458\n",
      "25       Nicolas Cage  0.017900\n",
      "49  Michelle Pfeiffer  0.017688\n",
      "68   Jessica Chastain  0.016863\n",
      "4      Morgan Freeman  0.016631\n",
      "51       Winona Ryder  0.016085\n",
      "           actor_name      hits\n",
      "3          Matt Damon  0.026992\n",
      "12  Samuel L. Jackson  0.023012\n",
      "8        Bruce Willis  0.022983\n",
      "28    Charlize Theron  0.022257\n",
      "0           Brad Pitt  0.021864\n",
      "34     Cate Blanchett  0.021090\n",
      "4      Morgan Freeman  0.020235\n",
      "30       Robin Wright  0.019372\n",
      "23    Natalie Portman  0.018573\n",
      "44     Angelina Jolie  0.018079\n"
     ]
    }
   ],
   "source": [
    "print(\"The average clustering:\", nx.average_clustering(G))\n",
    "print(\"The density:\", nx.density(G))\n",
    "#The max distance between two actors\n",
    "print(\"The  max distance between two actors:\", nx.diameter(G))\n",
    "# The average distance between two actors\n",
    "print(\"The average distance between two actors:\", nx.average_shortest_path_length(G))\n",
    "\n",
    "# pagerank\n",
    "import numpy as np\n",
    "pagerank= nx.pagerank_numpy(G)\n",
    "pagerank= pd.DataFrame.from_dict(pagerank, orient='index').reset_index()\n",
    "pagerank.columns=['actor_name', 'pagerank']\n",
    "print(pagerank.sort_values('pagerank', ascending=False).head(10))\n",
    "\n",
    "# hits analysis\n",
    "hits= nx.hits_scipy(G, max_iter= 1000)[0]\n",
    "hits=pd.DataFrame.from_dict(hits, orient='index').reset_index()\n",
    "hits.columns=['actor_name', 'hits']\n",
    "print(hits.sort_values('hits', ascending= False).head(10))"
   ]
  },
  {
   "cell_type": "code",
   "execution_count": 31,
   "metadata": {},
   "outputs": [
    {
     "name": "stdout",
     "output_type": "stream",
     "text": [
      "['Jackie Chan', 'Angelina Jolie', 'Brad Pitt']\n",
      "Jackie Chan and Angelina Jolie in movie: Kung Fu Panda 2\n",
      "Angelina Jolie and Brad Pitt in movie: Mr. & Mrs. Smith\n"
     ]
    }
   ],
   "source": [
    "name=nx.get_edge_attributes(G, 'name')\n",
    "print(nx.shortest_path(G, \"Jackie Chan\", \"Brad Pitt\"))\n",
    "source=\"Jackie Chan\"\n",
    "target=\"Brad Pitt\"\n",
    "path=nx.shortest_path(G, source, target)\n",
    "for i in range(len(path)-1):\n",
    "    try:\n",
    "        common_movie= name[(path[i], path[i+1])]\n",
    "    except:\n",
    "        common_movie= name[(path[i+1], path[i])]\n",
    "    print(path[i]+\" and \"+path[i+1]+\" in movie:\", common_movie)"
   ]
  },
  {
   "cell_type": "code",
   "execution_count": 14,
   "metadata": {},
   "outputs": [
    {
     "data": {
      "image/png": "[encoded data removed]",
      "text/plain": [
       "<matplotlib.figure.Figure at 0x20e7bab31d0>"
      ]
     },
     "metadata": {},
     "output_type": "display_data"
    }
   ],
   "source": [
    "import matplotlib.pyplot as plt\n",
    "\n",
    "degrees= list(dict(G.degree()).values())\n",
    "values=sorted(set(degrees))\n",
    "degree_hist=[degrees.count(x) for x in values]\n",
    "\n",
    "plt.figure()\n",
    "plt.plot(values, degree_hist)\n",
    "plt.xlabel('Degree')\n",
    "plt.ylabel('Number of nodes')\n",
    "plt.title('Movie stars Network')\n",
    "plt.show()\n",
    "plt.savefig('degree_distribution.png')\n",
    "plt.close()"
   ]
  },
  {
   "cell_type": "code",
   "execution_count": 32,
   "metadata": {},
   "outputs": [
    {
     "ename": "ModuleNotFoundError",
     "evalue": "No module named 'bokeh.models.graphs'",
     "output_type": "error",
     "traceback": [
      "\u001b[1;31m---------------------------------------------------------------------------\u001b[0m",
      "\u001b[1;31mModuleNotFoundError\u001b[0m                       Traceback (most recent call last)",
      "\u001b[1;32m<ipython-input-32-06a6ec8c973e>\u001b[0m in \u001b[0;36m<module>\u001b[1;34m()\u001b[0m\n\u001b[0;32m      3\u001b[0m \u001b[1;32mfrom\u001b[0m \u001b[0mbokeh\u001b[0m\u001b[1;33m.\u001b[0m\u001b[0mplotting\u001b[0m \u001b[1;32mimport\u001b[0m \u001b[0mfigure\u001b[0m\u001b[1;33m\u001b[0m\u001b[0m\n\u001b[0;32m      4\u001b[0m \u001b[1;32mfrom\u001b[0m \u001b[0mbokeh\u001b[0m\u001b[1;33m.\u001b[0m\u001b[0mplotting\u001b[0m \u001b[1;32mimport\u001b[0m \u001b[0mfigure\u001b[0m\u001b[1;33m\u001b[0m\u001b[0m\n\u001b[1;32m----> 5\u001b[1;33m \u001b[1;32mfrom\u001b[0m \u001b[0mbokeh\u001b[0m\u001b[1;33m.\u001b[0m\u001b[0mmodels\u001b[0m\u001b[1;33m.\u001b[0m\u001b[0mgraphs\u001b[0m \u001b[1;32mimport\u001b[0m \u001b[0mfrom_networkx\u001b[0m\u001b[1;33m\u001b[0m\u001b[0m\n\u001b[0m\u001b[0;32m      6\u001b[0m \u001b[1;33m\u001b[0m\u001b[0m\n\u001b[0;32m      7\u001b[0m plot= figure(title=\"Networkx Integration Demonstration\", x_range=(-10,10), y_range=(-10,10),\n",
      "\u001b[1;31mModuleNotFoundError\u001b[0m: No module named 'bokeh.models.graphs'"
     ]
    }
   ],
   "source": [
    "import bokeh\n",
    "from bokeh.io import show, output_file\n",
    "from bokeh.plotting import figure\n",
    "from bokeh.plotting import figure\n",
    "from bokeh.models.graphs import from_networkx\n",
    "\n",
    "plot= figure(title=\"Networkx Integration Demonstration\", x_range=(-10,10), y_range=(-10,10),\n",
    "              tools=\"\", toolbar_location=None)\n",
    "graph= from_networkx(G, nx.spring_layout, scale=10, center=(0,0))\n",
    "plot.renderers.append(graph)\n",
    "output_file(\"network_graph_100.html\")\n",
    "show(plot)"
   ]
  },
  {
   "cell_type": "markdown",
   "metadata": {},
   "source": [
    "Save as json to show Interactive Graph"
   ]
  },
  {
   "cell_type": "code",
   "execution_count": 27,
   "metadata": {
    "collapsed": true
   },
   "outputs": [],
   "source": [
    "from networkx.readwrite import json_graph\n",
    "import json\n",
    "data= json_graph.node_link_data(G)\n",
    "with open('graph_100.json', 'w') as f:\n",
    "    json.dump(data, f, indent=2)"
   ]
  },
  {
   "cell_type": "markdown",
   "metadata": {},
   "source": [
    "## Interactive Graph(Still Debugging)"
   ]
  },
  {
   "cell_type": "markdown",
   "metadata": {
    "collapsed": true
   },
   "source": [
    "Check the other folder: network visulization"
   ]
  },
  {
   "cell_type": "code",
   "execution_count": null,
   "metadata": {
    "collapsed": true
   },
   "outputs": [],
   "source": []
  }
 ],
 "metadata": {
  "kernelspec": {
   "display_name": "Python 3",
   "language": "python",
   "name": "python3"
  },
  "language_info": {
   "codemirror_mode": {
    "name": "ipython",
    "version": 3
   },
   "file_extension": ".py",
   "mimetype": "text/x-python",
   "name": "python",
   "nbconvert_exporter": "python",
   "pygments_lexer": "ipython3",
   "version": "3.6.1"
  }
 },
 "nbformat": 4,
 "nbformat_minor": 2
}
