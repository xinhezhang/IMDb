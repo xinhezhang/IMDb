{
 "cells": [
  {
   "cell_type": "markdown",
   "metadata": {},
   "source": [
    "Import common libraries"
   ]
  },
  {
   "cell_type": "code",
   "execution_count": 1,
   "metadata": {
    "collapsed": true
   },
   "outputs": [],
   "source": [
    "import numpy as np\n",
    "import pandas as pd"
   ]
  },
  {
   "cell_type": "markdown",
   "metadata": {},
   "source": [
    "Load title.basics data"
   ]
  },
  {
   "cell_type": "code",
   "execution_count": 2,
   "metadata": {},
   "outputs": [
    {
     "name": "stderr",
     "output_type": "stream",
     "text": [
      "/Users/xinhezhang/anaconda2/lib/python2.7/site-packages/IPython/core/interactiveshell.py:2718: DtypeWarning: Columns (5) have mixed types. Specify dtype option on import or set low_memory=False.\n",
      "  interactivity=interactivity, compiler=compiler, result=result)\n"
     ]
    },
    {
     "name": "stdout",
     "output_type": "stream",
     "text": [
      "      tconst titleType                                 primaryTitle  \\\n",
      "0  tt0000001     short                                   Carmencita   \n",
      "1  tt0000002     short                       Le clown et ses chiens   \n",
      "2  tt0000003     short                               Pauvre Pierrot   \n",
      "3  tt0000004     short                                  Un bon bock   \n",
      "4  tt0000005     short                             Blacksmith Scene   \n",
      "5  tt0000006     short                            Chinese Opium Den   \n",
      "6  tt0000007     short  Corbett and Courtney Before the Kinetograph   \n",
      "7  tt0000008     short       Edison Kinetoscopic Record of a Sneeze   \n",
      "8  tt0000009     movie                                   Miss Jerry   \n",
      "9  tt0000010     short        Employees Leaving the Lumière Factory   \n",
      "\n",
      "                                 originalTitle  isAdult startYear endYear  \\\n",
      "0                                   Carmencita        0      1894      \\N   \n",
      "1                       Le clown et ses chiens        0      1892      \\N   \n",
      "2                               Pauvre Pierrot        0      1892      \\N   \n",
      "3                                  Un bon bock        0      1892      \\N   \n",
      "4                             Blacksmith Scene        0      1893      \\N   \n",
      "5                            Chinese Opium Den        0      1894      \\N   \n",
      "6  Corbett and Courtney Before the Kinetograph        0      1894      \\N   \n",
      "7       Edison Kinetoscopic Record of a Sneeze        0      1894      \\N   \n",
      "8                                   Miss Jerry        0      1894      \\N   \n",
      "9          La sortie de l'usine Lumière à Lyon        0      1895      \\N   \n",
      "\n",
      "  runtimeMinutes                    genres  \n",
      "0              1         Documentary,Short  \n",
      "1              5           Animation,Short  \n",
      "2              4  Animation,Comedy,Romance  \n",
      "3             \\N           Animation,Short  \n",
      "4              1                     Short  \n",
      "5              1                     Short  \n",
      "6              1               Short,Sport  \n",
      "7              1         Documentary,Short  \n",
      "8             45                   Romance  \n",
      "9              1         Documentary,Short  \n"
     ]
    }
   ],
   "source": [
    "title_basics = pd.read_csv('title.basics.tsv', delimiter='\\t', encoding='utf-8')\n",
    "\n",
    "print title_basics.head(10)"
   ]
  },
  {
   "cell_type": "markdown",
   "metadata": {},
   "source": [
    "Only keep movie related data"
   ]
  },
  {
   "cell_type": "code",
   "execution_count": 3,
   "metadata": {},
   "outputs": [
    {
     "name": "stdout",
     "output_type": "stream",
     "text": [
      "        tconst titleType                     primaryTitle  \\\n",
      "8    tt0000009     movie                       Miss Jerry   \n",
      "145  tt0000147     movie    The Corbett-Fitzsimmons Fight   \n",
      "332  tt0000335     movie            Soldiers of the Cross   \n",
      "499  tt0000502     movie                         Bohemios   \n",
      "571  tt0000574     movie      The Story of the Kelly Gang   \n",
      "611  tt0000615     movie               Robbery Under Arms   \n",
      "626  tt0000630     movie                           Hamlet   \n",
      "669  tt0000675     movie                      Don Quijote   \n",
      "670  tt0000676     movie  Don Álvaro o la fuerza del sino   \n",
      "673  tt0000679     movie   The Fairylogue and Radio-Plays   \n",
      "\n",
      "                       originalTitle  isAdult startYear endYear  \\\n",
      "8                         Miss Jerry        0      1894      \\N   \n",
      "145    The Corbett-Fitzsimmons Fight        0      1897      \\N   \n",
      "332            Soldiers of the Cross        0      1900      \\N   \n",
      "499                         Bohemios        0      1905      \\N   \n",
      "571      The Story of the Kelly Gang        0      1906      \\N   \n",
      "611               Robbery Under Arms        0      1907      \\N   \n",
      "626                           Amleto        0      1908      \\N   \n",
      "669                      Don Quijote        0      1908      \\N   \n",
      "670  Don Álvaro o la fuerza del sino        0      1908      \\N   \n",
      "673   The Fairylogue and Radio-Plays        0      1908      \\N   \n",
      "\n",
      "    runtimeMinutes                  genres  \n",
      "8               45                 Romance  \n",
      "145             20  Documentary,News,Sport  \n",
      "332             \\N         Biography,Drama  \n",
      "499            100                      \\N  \n",
      "571             70   Biography,Crime,Drama  \n",
      "611             \\N                   Drama  \n",
      "626             \\N                   Drama  \n",
      "669             \\N                   Drama  \n",
      "670             \\N                   Drama  \n",
      "673            120       Adventure,Fantasy  \n"
     ]
    }
   ],
   "source": [
    "title_basics_movie = title_basics[title_basics['titleType'] == 'movie']\n",
    "\n",
    "print title_basics_movie.head(10)"
   ]
  },
  {
   "cell_type": "code",
   "execution_count": 4,
   "metadata": {},
   "outputs": [
    {
     "name": "stdout",
     "output_type": "stream",
     "text": [
      "Number of movies: 478145\n",
      "Number of features: 9\n"
     ]
    }
   ],
   "source": [
    "print \"Number of movies:\", title_basics_movie.shape[0]\n",
    "print \"Number of features:\", title_basics_movie.shape[1]"
   ]
  },
  {
   "cell_type": "markdown",
   "metadata": {},
   "source": [
    "Get moive start years"
   ]
  },
  {
   "cell_type": "code",
   "execution_count": 10,
   "metadata": {},
   "outputs": [
    {
     "name": "stdout",
     "output_type": "stream",
     "text": [
      "[1894 1897 1900 1905 1906 1907 1908 1908 1908 1908]\n"
     ]
    }
   ],
   "source": [
    "start_years = title_basics_movie['startYear'].values\n",
    "\n",
    "print start_years[0:10]"
   ]
  },
  {
   "cell_type": "code",
   "execution_count": null,
   "metadata": {
    "collapsed": true
   },
   "outputs": [],
   "source": []
  }
 ],
 "metadata": {
  "kernelspec": {
   "display_name": "Python 2",
   "language": "python",
   "name": "python2"
  },
  "language_info": {
   "codemirror_mode": {
    "name": "ipython",
    "version": 2
   },
   "file_extension": ".py",
   "mimetype": "text/x-python",
   "name": "python",
   "nbconvert_exporter": "python",
   "pygments_lexer": "ipython2",
   "version": "2.7.14"
  }
 },
 "nbformat": 4,
 "nbformat_minor": 2
}
