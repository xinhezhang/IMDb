{
 "cells": [
  {
   "cell_type": "code",
   "execution_count": 3,
   "metadata": {
    "collapsed": true
   },
   "outputs": [],
   "source": [
    "import numpy as np\n",
    "import pandas as pd\n",
    "import matplotlib.pyplot as plt"
   ]
  },
  {
   "cell_type": "code",
   "execution_count": 4,
   "metadata": {
    "collapsed": true
   },
   "outputs": [],
   "source": [
    "def read_set(fname):\n",
    "    assert isinstance(fname,str)\n",
    "    '''\n",
    "    input:name of the csv file\n",
    "    input type: string\n",
    "    output: an object of pandas.DataFrame\n",
    "    output type: pandas.DataFrame\n",
    "    \n",
    "    function:read the csv file and return data set\n",
    "    '''\n",
    "    return pd.read_csv(fname, delimiter='\\t', encoding='utf-8')\n"
   ]
  },
  {
   "cell_type": "code",
   "execution_count": 5,
   "metadata": {
    "collapsed": true,
    "scrolled": true
   },
   "outputs": [],
   "source": [
    "def select_data_and_combine(basics_fname,ratings_fname,show_type):\n",
    "    '''\n",
    "    input:\n",
    "    basic_fname:name of the file which contains title's basic information. type:string\n",
    "    ratings_fname:name of the file which contains title's rating information. type:string\n",
    "    show_type:the show type we want to select. type:string\n",
    "    \n",
    "    output: an object of pandas.DataFrame which combines the two data sets\n",
    "    output type: pandas.DataFrame\n",
    "    \n",
    "    function:select the data which we want corresponding to the type of the show.Then combine it with the rating data\n",
    "    '''\n",
    "    assert isinstance(basics_fname,str)\n",
    "    assert isinstance(ratings_fname,str)\n",
    "    assert isinstance(show_type,str)\n",
    "    \n",
    "    title_basics=read_set(basics_fname)# read file\n",
    "    title_ratings=read_set(ratings_fname)# read file\n",
    "    \n",
    "    title_basics_selected = title_basics[title_basics['titleType'] == show_type] #select data we want\n",
    "    title_basics_and_ratings=pd.merge(title_basics_selected,title_ratings,how='inner')#combine the two dataset\n",
    "    title_basics_and_ratings=title_basics_and_ratings[title_basics_and_ratings.genres != '\\\\N']#remove the incomplete data \n",
    "    \n",
    "    return title_basics_and_ratings\n",
    "\n",
    "\n",
    "\n",
    "\n"
   ]
  },
  {
   "cell_type": "code",
   "execution_count": 6,
   "metadata": {
    "collapsed": true
   },
   "outputs": [],
   "source": [
    "def split_rows(data,column_name):\n",
    "    '''\n",
    "    input:\n",
    "    data:an object of pandas.DataFrame whose rows need to be divided. type: pandas.DataFrame\n",
    "    name_of_the_column: name of the column which we divide the rows by. type:string\n",
    "    \n",
    "    output:an object of pandas.DataFrame whose rows has been divided\n",
    "    output type:pandas.DataFrame\n",
    "    '''\n",
    "    assert isinstance(column_name,str)\n",
    "    \n",
    "    tem=data[column_name].str.split(',',expand=True).stack().reset_index() #split the column and reindex\n",
    "    tem.columns=['level_0','level_1','new_'+column_name]#name the new column\n",
    "    res=pd.merge(tem,data,how='inner',left_on='level_0',right_index=True)#combine the column we just got with the raw dataset\n",
    "    \n",
    "    res=res.drop('level_0',1)#remove useless column\n",
    "    res=res.drop('level_1',1)#remove useless column\n",
    "    res=res.drop(column_name,1)#remove useless column\n",
    "    \n",
    "    return res\n",
    "\n",
    "\n"
   ]
  },
  {
   "cell_type": "code",
   "execution_count": 7,
   "metadata": {
    "collapsed": true
   },
   "outputs": [],
   "source": [
    "def rank(data,column_name,year_start,year_end):\n",
    "    '''\n",
    "    input:\n",
    "    data:an object of pandas.DataFrame which we will operate on. type: pandas.DataFrame\n",
    "    column_name:name of the column which we will rank data by. type:string\n",
    "    year_start,year_end:year:the starting and ending years of the data which we will rank on. type:int\n",
    "    \n",
    "    output:an object of pandas.DataFrame which we have already sorted. type:pandas.DataFrame\n",
    "    '''\n",
    "    tem=data[data['startYear']>=year_start] #select data\n",
    "    grp=tem[tem['startYear']<=year_end].groupby('new_'+column_name) #select data and group the data\n",
    "    res=grp.mean().drop('isAdult',1).drop('numVotes',1).sort_values(['averageRating']) #remove columns we do not need then sort\n",
    "    return res"
   ]
  },
  {
   "cell_type": "code",
   "execution_count": 8,
   "metadata": {
    "collapsed": true
   },
   "outputs": [],
   "source": [
    "def get_relationof_type_ratings(basics_fname,ratings_fname,show_type,year_start=0,year_end=10000):\n",
    "    '''\n",
    "    input:\n",
    "    basic_fname:name of the file which contains title's basic information. type:string\n",
    "    ratings_fname:name of the file which contains title's rating information. type:string\n",
    "    show_type:the show type we want to select. type:string\n",
    "    year_start,year_end:year:the starting and ending years of the data which we will rank on. type:int\n",
    "    \n",
    "    output:an object of pandas.DataFrame which shows the relation we want. type:pandas.DataFrame\n",
    "    '''\n",
    "    combined_data=select_data_and_combine(basics_fname,ratings_fname,show_type)\n",
    "    \n",
    "    splited_data=split_rows(combined_data,'genres')#special for genres,since one movie may have several genres\n",
    "    \n",
    "    return rank(splited_data,'genres',year_start,year_end)\n"
   ]
  },
  {
   "cell_type": "code",
   "execution_count": 32,
   "metadata": {},
   "outputs": [
    {
     "name": "stderr",
     "output_type": "stream",
     "text": [
      "/home/qiuhao20132100/miniconda2/lib/python2.7/site-packages/ipykernel_launcher.py:1: DtypeWarning: Columns (5) have mixed types. Specify dtype option on import or set low_memory=False.\n",
      "  \"\"\"Entry point for launching an IPython kernel.\n"
     ]
    },
    {
     "name": "stdout",
     "output_type": "stream",
     "text": [
      "             averageRating\n",
      "new_genres                \n",
      "Sci-Fi            5.435858\n",
      "Talk-Show         5.600000\n",
      "Adult             5.655556\n",
      "Horror            5.675291\n",
      "Action            6.113876\n",
      "Adventure         6.117180\n",
      "Western           6.137862\n",
      "Comedy            6.289236\n",
      "Music             6.289615\n",
      "Musical           6.313821\n",
      "Thriller          6.315568\n",
      "Mystery           6.324481\n",
      "Crime             6.328952\n",
      "Fantasy           6.346036\n",
      "Sport             6.366553\n",
      "Romance           6.480499\n",
      "Drama             6.499374\n",
      "Family            6.500617\n",
      "War               6.543072\n",
      "History           6.552889\n",
      "Film-Noir         6.648395\n",
      "Biography         6.659385\n",
      "News              6.800000\n",
      "Animation         6.852459\n",
      "Documentary       6.888009\n"
     ]
    }
   ],
   "source": [
    "test=get_relationof_type_ratings('title.basics.tsv','title.ratings.tsv','movie',year_start=1900,year_end=2000)\n",
    "test.index.name='types'\n",
    "print test\n"
   ]
  },
  {
   "cell_type": "code",
   "execution_count": 38,
   "metadata": {},
   "outputs": [
    {
     "data": {
      "text/plain": [
       "<matplotlib.axes._subplots.AxesSubplot at 0x7fc73f8bb150>"
      ]
     },
     "execution_count": 38,
     "metadata": {},
     "output_type": "execute_result"
    },
    {
     "data": {
      "text/plain": [
       "<matplotlib.figure.Figure at 0x7fc73f86ef90>"
      ]
     },
     "metadata": {},
     "output_type": "display_data"
    },
    {
     "data": {
      "image/png": "[encoded data removed]",
      "text/plain": [
       "<matplotlib.figure.Figure at 0x7fc73f8bb8d0>"
      ]
     },
     "metadata": {},
     "output_type": "display_data"
    }
   ],
   "source": [
    "#visualized#\n",
    "plt.figure()\n",
    "test.plot(kind='bar')\n"
   ]
  },
  {
   "cell_type": "code",
   "execution_count": null,
   "metadata": {
    "collapsed": true
   },
   "outputs": [],
   "source": []
  }
 ],
 "metadata": {
  "kernelspec": {
   "display_name": "Python 2",
   "language": "python",
   "name": "python2"
  },
  "language_info": {
   "codemirror_mode": {
    "name": "ipython",
    "version": 2
   },
   "file_extension": ".py",
   "mimetype": "text/x-python",
   "name": "python",
   "nbconvert_exporter": "python",
   "pygments_lexer": "ipython2",
   "version": "2.7.14"
  }
 },
 "nbformat": 4,
 "nbformat_minor": 2
}
