{
 "cells": [
  {
   "cell_type": "raw",
   "metadata": {},
   "source": [
    "# Import libraries"
   ]
  },
  {
   "cell_type": "code",
   "execution_count": 1,
   "metadata": {},
   "outputs": [],
   "source": [
    "import numpy as np\n",
    "import pandas as pd"
   ]
  },
  {
   "cell_type": "raw",
   "metadata": {},
   "source": [
    "# load title.basics.tsv"
   ]
  },
  {
   "cell_type": "code",
   "execution_count": 3,
   "metadata": {},
   "outputs": [
    {
     "name": "stderr",
     "output_type": "stream",
     "text": [
      "/Users/huangzhisheng/miniconda2/lib/python2.7/site-packages/IPython/core/interactiveshell.py:2718: DtypeWarning: Columns (5) have mixed types. Specify dtype option on import or set low_memory=False.\n",
      "  interactivity=interactivity, compiler=compiler, result=result)\n"
     ]
    }
   ],
   "source": [
    "title_basics = pd.read_csv('data/title.basics.tsv', delimiter='\\t', encoding='utf-8')"
   ]
  },
  {
   "cell_type": "raw",
   "metadata": {},
   "source": [
    "# only keeps the movie data"
   ]
  },
  {
   "cell_type": "code",
   "execution_count": 4,
   "metadata": {},
   "outputs": [
    {
     "name": "stdout",
     "output_type": "stream",
     "text": [
      "Number of movies 478229\n"
     ]
    }
   ],
   "source": [
    "title_basics_movie = title_basics[title_basics['titleType'] == 'movie']\n",
    "\n",
    "#print title_basics_movie.head(10)\n",
    "print \"Number of movies\", title_basics_movie.shape[0]"
   ]
  },
  {
   "cell_type": "raw",
   "metadata": {},
   "source": [
    "# title_basics_movie_genres contains the movies with genres available"
   ]
  },
  {
   "cell_type": "code",
   "execution_count": 5,
   "metadata": {},
   "outputs": [
    {
     "name": "stdout",
     "output_type": "stream",
     "text": [
      "        tconst titleType                     primaryTitle  \\\n",
      "8    tt0000009     movie                       Miss Jerry   \n",
      "145  tt0000147     movie    The Corbett-Fitzsimmons Fight   \n",
      "332  tt0000335     movie            Soldiers of the Cross   \n",
      "571  tt0000574     movie      The Story of the Kelly Gang   \n",
      "611  tt0000615     movie               Robbery Under Arms   \n",
      "626  tt0000630     movie                           Hamlet   \n",
      "669  tt0000675     movie                      Don Quijote   \n",
      "670  tt0000676     movie  Don Álvaro o la fuerza del sino   \n",
      "673  tt0000679     movie   The Fairylogue and Radio-Plays   \n",
      "730  tt0000739     movie        El pastorcito de Torrente   \n",
      "\n",
      "                       originalTitle  isAdult startYear endYear  \\\n",
      "8                         Miss Jerry        0      1894      \\N   \n",
      "145    The Corbett-Fitzsimmons Fight        0      1897      \\N   \n",
      "332            Soldiers of the Cross        0      1900      \\N   \n",
      "571      The Story of the Kelly Gang        0      1906      \\N   \n",
      "611               Robbery Under Arms        0      1907      \\N   \n",
      "626                           Amleto        0      1908      \\N   \n",
      "669                      Don Quijote        0      1908      \\N   \n",
      "670  Don Álvaro o la fuerza del sino        0      1908      \\N   \n",
      "673   The Fairylogue and Radio-Plays        0      1908      \\N   \n",
      "730        El pastorcito de Torrente        0      1908      \\N   \n",
      "\n",
      "    runtimeMinutes                  genres  \n",
      "8               45                 Romance  \n",
      "145             20  Documentary,News,Sport  \n",
      "332             \\N         Biography,Drama  \n",
      "571             70   Biography,Crime,Drama  \n",
      "611             \\N                   Drama  \n",
      "626             \\N                   Drama  \n",
      "669             \\N                   Drama  \n",
      "670             \\N                   Drama  \n",
      "673            120       Adventure,Fantasy  \n",
      "730             \\N                   Drama  \n",
      "Number of movies with genre values: 402777\n"
     ]
    }
   ],
   "source": [
    "title_basics_movie_genres = title_basics_movie[title_basics_movie.genres != '\\N']\n",
    "uid = title_basics_movie_genres['tconst']\n",
    "print title_basics_movie_genres.head(10)\n",
    "#print uid[0:19]\n",
    "print \"Number of movies with genre values:\", title_basics_movie_genres.shape[0]\n"
   ]
  },
  {
   "cell_type": "code",
   "execution_count": 6,
   "metadata": {},
   "outputs": [
    {
     "name": "stdout",
     "output_type": "stream",
     "text": [
      "                     genres\n",
      "8                   Romance\n",
      "145  Documentary,News,Sport\n",
      "332         Biography,Drama\n",
      "571   Biography,Crime,Drama\n",
      "611                   Drama\n",
      "626                   Drama\n",
      "669                   Drama\n",
      "670                   Drama\n",
      "673       Adventure,Fantasy\n",
      "730                   Drama\n"
     ]
    }
   ],
   "source": [
    "# genres contains all the genres in the dataset\n",
    "genres = title_basics_movie_genres[['genres']]\n",
    "print genres.head(10)\n",
    "#print type(genres)\n",
    "#print type(title_basics_movie_genres)"
   ]
  },
  {
   "cell_type": "code",
   "execution_count": 60,
   "metadata": {},
   "outputs": [
    {
     "name": "stdout",
     "output_type": "stream",
     "text": [
      "genres\n",
      "Action                          10322\n",
      "Action,Adult                        8\n",
      "Action,Adult,Adventure              1\n",
      "Action,Adult,Comedy                 7\n",
      "Action,Adult,Crime                  9\n",
      "Action,Adult,Documentary            1\n",
      "Action,Adult,Drama                  4\n",
      "Action,Adult,Fantasy                1\n",
      "Action,Adult,Horror                 1\n",
      "Action,Adult,Western                1\n",
      "Action,Adventure                 1020\n",
      "Action,Adventure,Animation        343\n",
      "Action,Adventure,Biography         75\n",
      "Action,Adventure,Comedy           939\n",
      "Action,Adventure,Crime            576\n",
      "Action,Adventure,Documentary      194\n",
      "Action,Adventure,Drama           1181\n",
      "Action,Adventure,Family           138\n",
      "Action,Adventure,Fantasy          484\n",
      "Action,Adventure,Film-Noir          1\n",
      "Action,Adventure,History           94\n",
      "Action,Adventure,Horror           119\n",
      "Action,Adventure,Music             69\n",
      "Action,Adventure,Musical            9\n",
      "Action,Adventure,Mystery           96\n",
      "Action,Adventure,Romance          297\n",
      "Action,Adventure,Sci-Fi           412\n",
      "Action,Adventure,Sport              7\n",
      "Action,Adventure,Thriller         232\n",
      "Action,Adventure,War               74\n",
      "Action,Adventure,Western          213\n",
      "Action,Animation                   23\n",
      "Action,Animation,Biography          4\n",
      "Action,Animation,Comedy            94\n",
      "Action,Animation,Crime             26\n",
      "Action,Animation,Documentary        2\n",
      "Action,Animation,Drama             81\n",
      "Action,Animation,Family             7\n",
      "Action,Animation,Fantasy           50\n",
      "Action,Animation,History            3\n",
      "Action,Animation,Horror            13\n",
      "Action,Animation,Music              2\n",
      "Action,Animation,Musical            1\n",
      "Action,Animation,Mystery            4\n",
      "Action,Animation,Romance            2\n",
      "Action,Animation,Sci-Fi            87\n",
      "Action,Animation,Sport              2\n",
      "Action,Animation,Thriller           6\n",
      "Action,Animation,War                1\n",
      "Action,Animation,Western            2\n",
      "Name: genres, dtype: int64\n",
      "Numbers of genres 1386\n"
     ]
    }
   ],
   "source": [
    "movies_per_genres = genres.groupby(['genres'])['genres'].count()\n",
    "print movies_per_genres[0:50]\n",
    "print \"Numbers of genres\", movies_per_genres.shape[0]"
   ]
  },
  {
   "cell_type": "code",
   "execution_count": null,
   "metadata": {},
   "outputs": [],
   "source": []
  }
 ],
 "metadata": {
  "kernelspec": {
   "display_name": "Python 2",
   "language": "python",
   "name": "python2"
  },
  "language_info": {
   "codemirror_mode": {
    "name": "ipython",
    "version": 2
   },
   "file_extension": ".py",
   "mimetype": "text/x-python",
   "name": "python",
   "nbconvert_exporter": "python",
   "pygments_lexer": "ipython2",
   "version": "2.7.14"
  }
 },
 "nbformat": 4,
 "nbformat_minor": 2
}
