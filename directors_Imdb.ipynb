{
 "cells": [
  {
   "cell_type": "code",
   "execution_count": 1,
   "metadata": {},
   "outputs": [],
   "source": [
    "import pandas as pd\n",
    "import matplotlib.pyplot as plt\n",
    "import numpy as np\n",
    "\n",
    "def tidy_split(df, column, sep=',', keep=False):\n",
    "    \"\"\"\n",
    "    Split the values of a column and expand so the new DataFrame has one split\n",
    "    value per row. Filters rows where the column is missing.\n",
    "\n",
    "    Params\n",
    "    ------\n",
    "    df : pandas.DataFrame\n",
    "        dataframe with the column to split and expand\n",
    "    column : str\n",
    "        the column to split and expand\n",
    "    sep : str\n",
    "        the string used to split the column's values\n",
    "    keep : bool\n",
    "        whether to retain the presplit value as it's own row\n",
    "\n",
    "    Returns\n",
    "    -------\n",
    "    pandas.DataFrame\n",
    "        Returns a dataframe with the same columns as `df`.\n",
    "    \"\"\"\n",
    "    indexes = list()\n",
    "    new_values = list()\n",
    "    df = df.dropna(subset=[column])\n",
    "    for i, presplit in enumerate(df[column].astype(str)):\n",
    "        values = presplit.split(sep)\n",
    "        if keep and len(values) > 1:\n",
    "            indexes.append(i)\n",
    "            new_values.append(presplit)\n",
    "        for value in values:\n",
    "            indexes.append(i)\n",
    "            new_values.append(value)\n",
    "    new_df = df.iloc[indexes, :].copy()\n",
    "    new_df[column] = new_values\n",
    "    return new_df\n",
    "\n",
    "\n"
   ]
  },
  {
   "cell_type": "code",
   "execution_count": 3,
   "metadata": {},
   "outputs": [],
   "source": [
    "# Read titles information\n",
    "titles_info = pd.read_csv('/Users/Apple/Downloads/title.basics.tsv', delimiter = '\\t', low_memory=False)\n",
    "titles = titles_info.drop(columns = ['originalTitle', 'isAdult', 'startYear', 'endYear', 'runtimeMinutes', 'genres'], axis = 1)\n",
    "\n",
    "#Read names information\n",
    "names_info = pd.read_csv('/Users/Apple/Downloads/name.basics.tsv', delimiter = '\\t', low_memory=False)\n",
    "names_info = names_info.drop(columns = ['birthYear', 'deathYear', 'primaryProfession' ])\n",
    "\n",
    "# Read ratings information\n",
    "ratings_info = pd.read_csv('/Users/Apple/Downloads/title.ratings.tsv.gz', delimiter='\\t', low_memory = False)\n",
    "\n",
    "\n",
    "# Directors information\n",
    "# Drop 'writer' column and merge with ratings info.\n",
    "director_info = pd.read_csv('/Users/Apple/Downloads/title.crew.tsv', delimiter ='\\t')\n",
    "directors_info = director_info.drop(columns = ['writers'], axis =1)\n",
    "directors_info = directors_info.merge(ratings_info, on = 'tconst', how = 'outer')\n",
    "\n",
    "# Further clean by dropping all rows where 'director' information is missing and numVotes > 100,000\n",
    "directors_info = directors_info.dropna(subset = ['directors'])\n",
    "directors_info = directors_info[directors_info['numVotes']>100000]\n",
    "\n",
    "# Retrieve only those titles that are movies and obtain their unique constants\n",
    "titles = titles[titles['titleType']=='movie']\n",
    "movie_titles = titles['tconst']\n",
    "\n",
    "# Retrieve the director information only for titles that are movies\n",
    "directors_info = directors_info[directors_info['tconst'].isin(movie_titles)]\n",
    "\n",
    "\n",
    "# Duplicate rating information for titles with multiple directors\n",
    "directors_info = tidy_split(directors_info, 'directors', ',')\n"
   ]
  },
  {
   "cell_type": "code",
   "execution_count": 4,
   "metadata": {},
   "outputs": [],
   "source": [
    "def weighted_rating(df):\n",
    "    \"\"\"\n",
    "    Compute the score for a given director as:\n",
    "    sum over all movies (number of votes * average rating)/ # of movies made by the director\n",
    "\n",
    "    Params\n",
    "    -------\n",
    "    df : Groupby object that contains the group information for the current director group\n",
    "    numVotes : df param that contains the number of votes for all the movies\n",
    "    averageRating : df param that contains average rating for all the movies\n",
    "\n",
    "    Returns\n",
    "    -------\n",
    "    Float32\n",
    "    Returns the score of the director for the current gro\n",
    "    \"\"\"\n",
    "\n",
    "    a = (df.numVotes* df.averageRating)\n",
    "    return a.sum()/len(df.directors)\n",
    "\n",
    "\n",
    "# Group by director name and compute score for each director\n",
    "scores = []\n",
    "names = []\n",
    "groups = directors_info.groupby('directors')\n",
    "for name, group in groups:\n",
    "    if len(group.directors)> 4:\n",
    "        names.append(name)\n",
    "        scores.append(weighted_rating(group))\n",
    "\n",
    "\n",
    "\n",
    "\n"
   ]
  },
  {
   "cell_type": "code",
   "execution_count": 7,
   "metadata": {},
   "outputs": [
    {
     "name": "stdout",
     "output_type": "stream",
     "text": [
      "[9.180692, 6.418246, 5.646128, 5.60674, 4.895896, 4.815575, 4.416884, 4.282824, 4.215522, 4.215522] ['James Cameron', 'Martin Scorsese', 'Quentin Tarantino', 'Francis Ford Coppola', 'David Fincher', 'Peter Jackson', 'Christopher Nolan', 'Lee Unkrich', 'Lilly Wachowski', 'Lana Wachowski']\n"
     ]
    }
   ],
   "source": [
    "directors_scores = dict(zip(names,scores))\n",
    "\n",
    "dnames = pd.DataFrame(directors_scores.items(), columns = ['names', 'scores'])\n",
    "\n",
    "\n",
    "dnames = dnames.sort_values(by = ['scores'], ascending = False).head(10)\n",
    "n = dnames['names']\n",
    "Director_names = names_info[names_info['nconst'].isin(n)]\n",
    "y_scores = dnames['scores'].tolist()\n",
    "y_scores = [int(i) for i in y_scores]\n",
    "y_scores = [i/float(1000000) for i in y_scores]\n",
    "x_names = Director_names['primaryName'].tolist()\n",
    "print y_scores, x_names\n",
    "\n",
    "\n",
    "\n",
    "\n",
    "\n",
    "\n",
    "\n",
    "\n",
    "\n"
   ]
  },
  {
   "cell_type": "code",
   "execution_count": 8,
   "metadata": {},
   "outputs": [
    {
     "data": {
      "image/png": "[encoded data removed]",
      "text/plain": [
       "<Figure size 432x288 with 1 Axes>"
      ]
     },
     "metadata": {},
     "output_type": "display_data"
    }
   ],
   "source": [
    "fig, ax = plt.subplots()\n",
    "\n",
    "rects = ax.bar(np.arange(10), y_scores, tick_label=x_names)\n",
    "ax.set_title('Top 10 directors of all time', fontsize=20)\n",
    "ax.set_xlabel('Director', fontsize=18)\n",
    "ax.set_ylabel('Score', fontsize=18)\n",
    "ax.set_ylim(0, 10)\n",
    "\n",
    "plt.setp(ax.get_xticklabels(), rotation=15, horizontalalignment='right')\n",
    "plt.show()\n",
    "\n",
    "\n"
   ]
  },
  {
   "cell_type": "code",
   "execution_count": null,
   "metadata": {},
   "outputs": [],
   "source": []
  }
 ],
 "metadata": {
  "kernelspec": {
   "display_name": "Python 2",
   "language": "python",
   "name": "python2"
  },
  "language_info": {
   "codemirror_mode": {
    "name": "ipython",
    "version": 2
   },
   "file_extension": ".py",
   "mimetype": "text/x-python",
   "name": "python",
   "nbconvert_exporter": "python",
   "pygments_lexer": "ipython2",
   "version": "2.7.10"
  }
 },
 "nbformat": 4,
 "nbformat_minor": 1
}
