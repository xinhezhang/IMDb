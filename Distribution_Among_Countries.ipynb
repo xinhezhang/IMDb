{
 "cells": [
  {
   "cell_type": "code",
   "execution_count": 2,
   "metadata": {
    "collapsed": true
   },
   "outputs": [],
   "source": [
    "import numpy as np\n",
    "import pandas as pd"
   ]
  },
  {
   "cell_type": "markdown",
   "metadata": {},
   "source": [
    "Loads title.akas.tsv data"
   ]
  },
  {
   "cell_type": "code",
   "execution_count": 3,
   "metadata": {},
   "outputs": [
    {
     "name": "stderr",
     "output_type": "stream",
     "text": [
      "/Users/seankamano/anaconda2/lib/python2.7/site-packages/IPython/core/interactiveshell.py:2718: DtypeWarning: Columns (7) have mixed types. Specify dtype option on import or set low_memory=False.\n",
      "  interactivity=interactivity, compiler=compiler, result=result)\n"
     ]
    },
    {
     "name": "stdout",
     "output_type": "stream",
     "text": [
      "     titleId  ordering                      title region language  \\\n",
      "0  tt0000001         1  Carmencita - spanyol tánc     HU       \\N   \n",
      "1  tt0000001         2                 Карменсита     RU       \\N   \n",
      "2  tt0000001         3                 Carmencita     US       \\N   \n",
      "3  tt0000001         4                 Carmencita     \\N       \\N   \n",
      "4  tt0000002         1     Le clown et ses chiens     \\N       \\N   \n",
      "5  tt0000002         2          A bohóc és kutyái     HU       \\N   \n",
      "6  tt0000002         3     Le clown et ses chiens     FR       \\N   \n",
      "7  tt0000002         4     The Clown and His Dogs     US       \\N   \n",
      "8  tt0000002         5         Клоун и его собаки     RU       \\N   \n",
      "9  tt0000003         1            Szegény Pierrot     HU       \\N   \n",
      "\n",
      "         types             attributes isOriginalTitle  \n",
      "0  imdbDisplay                     \\N               0  \n",
      "1           \\N                     \\N               0  \n",
      "2           \\N                     \\N               0  \n",
      "3     original                     \\N               1  \n",
      "4     original                     \\N               1  \n",
      "5  imdbDisplay                     \\N               0  \n",
      "6           \\N                     \\N               0  \n",
      "7           \\N  literal English title               0  \n",
      "8           \\N                     \\N               0  \n",
      "9  imdbDisplay                     \\N               0  \n"
     ]
    }
   ],
   "source": [
    "title_akas = pd.read_csv('/Users/seankamano/Downloads/title.akas.tsv', delimiter = '\\t', encoding = 'utf-8')\n",
    "print title_akas.head(10)"
   ]
  },
  {
   "cell_type": "markdown",
   "metadata": {
    "collapsed": true
   },
   "source": [
    "Need to load title.basics.tsv data to get movies only. Gets tconst for all movies."
   ]
  },
  {
   "cell_type": "code",
   "execution_count": 4,
   "metadata": {},
   "outputs": [
    {
     "name": "stderr",
     "output_type": "stream",
     "text": [
      "/Users/seankamano/anaconda2/lib/python2.7/site-packages/IPython/core/interactiveshell.py:2718: DtypeWarning: Columns (5) have mixed types. Specify dtype option on import or set low_memory=False.\n",
      "  interactivity=interactivity, compiler=compiler, result=result)\n"
     ]
    },
    {
     "name": "stdout",
     "output_type": "stream",
     "text": [
      "8      tt0000009\n",
      "145    tt0000147\n",
      "332    tt0000335\n",
      "499    tt0000502\n",
      "571    tt0000574\n",
      "611    tt0000615\n",
      "626    tt0000630\n",
      "669    tt0000675\n",
      "670    tt0000676\n",
      "673    tt0000679\n",
      "Name: tconst, dtype: object\n"
     ]
    }
   ],
   "source": [
    "title_basics = pd.read_csv('/Users/seankamano/Downloads/title.basics.tsv', delimiter='\\t', encoding='utf-8')\n",
    "title_basics_movie = title_basics[title_basics['titleType'] == 'movie']\n",
    "uid = title_basics_movie['tconst']\n",
    "\n",
    "print uid.head(10)"
   ]
  },
  {
   "cell_type": "markdown",
   "metadata": {},
   "source": [
    "Get movies only from title.akas.tsv by taking uid and comparing them to the tconsts in title.akas.tsv. This filters out any entries that are not movies in title.akas.tsv"
   ]
  },
  {
   "cell_type": "code",
   "execution_count": 5,
   "metadata": {},
   "outputs": [
    {
     "name": "stdout",
     "output_type": "stream",
     "text": [
      "        titleId  ordering                          title region language  \\\n",
      "46    tt0000009         1                     Miss Jerry     \\N       \\N   \n",
      "47    tt0000009         2                     Miss Jerry     HU       \\N   \n",
      "48    tt0000009         3                     Miss Jerry     US       \\N   \n",
      "568   tt0000147         1  The Corbett-Fitzsimmons Fight     US       \\N   \n",
      "971   tt0000335         1        Early Christian Martyrs     AU       \\N   \n",
      "972   tt0000335         2          Soldiers of the Cross     AU       \\N   \n",
      "973   tt0000335         3          Soldiers of the Cross     \\N       \\N   \n",
      "1447  tt0000502         1                       Bohemios     ES       \\N   \n",
      "1663  tt0000574         1     Kelly bandájának története     HU       \\N   \n",
      "1664  tt0000574         2    The Story of the Kelly Gang     \\N       \\N   \n",
      "\n",
      "            types attributes isOriginalTitle  \n",
      "46       original         \\N               1  \n",
      "47    imdbDisplay         \\N               0  \n",
      "48             \\N         \\N               0  \n",
      "568            \\N         \\N               0  \n",
      "971       working         \\N               0  \n",
      "972            \\N         \\N               0  \n",
      "973      original         \\N               1  \n",
      "1447           \\N         \\N               0  \n",
      "1663  imdbDisplay         \\N               0  \n",
      "1664     original         \\N               1  \n"
     ]
    }
   ],
   "source": [
    "title_akas_movies = title_akas[title_akas['titleId'].isin(uid.values)]\n",
    "\n",
    "print title_akas_movies.head(10)"
   ]
  },
  {
   "cell_type": "markdown",
   "metadata": {},
   "source": [
    "Remove movies without any regional data. Store movies without regional data for later reference, if it's ever needed."
   ]
  },
  {
   "cell_type": "code",
   "execution_count": 10,
   "metadata": {},
   "outputs": [
    {
     "name": "stdout",
     "output_type": "stream",
     "text": [
      "        titleId  ordering                           title region language  \\\n",
      "47    tt0000009         2                      Miss Jerry     HU       \\N   \n",
      "48    tt0000009         3                      Miss Jerry     US       \\N   \n",
      "568   tt0000147         1   The Corbett-Fitzsimmons Fight     US       \\N   \n",
      "971   tt0000335         1         Early Christian Martyrs     AU       \\N   \n",
      "972   tt0000335         2           Soldiers of the Cross     AU       \\N   \n",
      "1447  tt0000502         1                        Bohemios     ES       \\N   \n",
      "1663  tt0000574         1      Kelly bandájának története     HU       \\N   \n",
      "1665  tt0000574         3  Die Geschichte der Kelly Bande     DE       \\N   \n",
      "1666  tt0000574         4     The Story of the Kelly Gang     AU       \\N   \n",
      "1783  tt0000615         1              Robbery Under Arms     AU       \\N   \n",
      "\n",
      "            types attributes isOriginalTitle  \n",
      "47    imdbDisplay         \\N               0  \n",
      "48             \\N         \\N               0  \n",
      "568            \\N         \\N               0  \n",
      "971       working         \\N               0  \n",
      "972            \\N         \\N               0  \n",
      "1447           \\N         \\N               0  \n",
      "1663  imdbDisplay         \\N               0  \n",
      "1665           \\N         \\N               0  \n",
      "1666           \\N         \\N               0  \n",
      "1783           \\N         \\N               0  \n",
      "\n",
      "**************************************************************************************************** \n",
      "\n",
      "        titleId  ordering                        title region language  \\\n",
      "46    tt0000009         1                   Miss Jerry     \\N       \\N   \n",
      "973   tt0000335         3        Soldiers of the Cross     \\N       \\N   \n",
      "1664  tt0000574         2  The Story of the Kelly Gang     \\N       \\N   \n",
      "1821  tt0000630         2                       Amleto     \\N       \\N   \n",
      "2138  tt0000793         3                Andreas Hofer     \\N       \\N   \n",
      "2221  tt0000838         3           A Cultura do Cacau     \\N       \\N   \n",
      "2321  tt0000886         1                       Hamlet     \\N       \\N   \n",
      "2330  tt0000891         1          Heksen og cyklisten     \\N       \\N   \n",
      "2420  tt0000941         1               Locura de amor     \\N       \\N   \n",
      "2638  tt0001049         2               Gøngehøvdingen     \\N       \\N   \n",
      "\n",
      "         types attributes isOriginalTitle  \n",
      "46    original         \\N               1  \n",
      "973   original         \\N               1  \n",
      "1664  original         \\N               1  \n",
      "1821  original         \\N               1  \n",
      "2138  original         \\N               1  \n",
      "2221  original         \\N               1  \n",
      "2321  original         \\N               1  \n",
      "2330  original         \\N               1  \n",
      "2420  original         \\N               1  \n",
      "2638  original         \\N               1  \n"
     ]
    }
   ],
   "source": [
    "title_akas_movies_by_region = title_akas_movies[title_akas_movies['region'] != '\\N']\n",
    "title_akas_movies_no_region = title_akas_movies[title_akas_movies['region'] == '\\N']\n",
    "print title_akas_movies_by_region.head(10)\n",
    "print '\\n',\"*\"*100,'\\n'\n",
    "print title_akas_movies_no_region.head(10)"
   ]
  },
  {
   "cell_type": "markdown",
   "metadata": {},
   "source": [
    "Need to make sense of region codes. Scrape data off of http://www.nationsonline.org/oneworld/country_code_list.htm"
   ]
  },
  {
   "cell_type": "code",
   "execution_count": 19,
   "metadata": {
    "scrolled": false
   },
   "outputs": [
    {
     "name": "stdout",
     "output_type": "stream",
     "text": [
      "Country names:  [u'Afghanistan', u'Aland Islands', u'Albania', u'Algeria', u'American Samoa', u'Andorra', u'Angola', u'Anguilla', u'Antarctica  \\t  \\t  \\t', u'Antigua and Barbuda']\n",
      "Country codes:  [u' AF', u'AX', u'AL', u'DZ', u'AS', u'AD', u'AO', u'AI', u'AQ', u'AG']\n"
     ]
    }
   ],
   "source": [
    "import urllib2\n",
    "from bs4 import BeautifulSoup\n",
    "\n",
    "soup = BeautifulSoup(urllib2.urlopen('http://www.nationsonline.org/oneworld/country_code_list.htm').read(), \"lxml\")\n",
    "\n",
    "tableClassResults = soup.find(\"table\",{\"class\":\"tb86 rowstyle-alternate colstyle-alt no-arrow\"})\n",
    "countries = tableClassResults.find_all('td', {'class':'abs'})\n",
    "\n",
    "def get_countries():\n",
    "    for country in countries:\n",
    "        try: \n",
    "            yield country.a.string\n",
    "        except (AttributeError):\n",
    "            try:\n",
    "                yield country.em.string\n",
    "            except (AttributeError):\n",
    "                yield country.string\n",
    "    \n",
    "list_countries = [k for k in get_countries()]\n",
    "\n",
    "print \"Country names: \", list_countries[:10]\n",
    "\n",
    "country_codes = tableClassResults.find_all('td', {'style':'text-align:center'})\n",
    "\n",
    "def get_codes():\n",
    "    for code in country_codes:\n",
    "        if len(code.string) == 2 or code.string == ' AF':\n",
    "            yield code.string\n",
    "\n",
    "list_codes = [i for i in get_codes()]\n",
    "\n",
    "print \"Country codes: \", list_codes[:10]"
   ]
  },
  {
   "cell_type": "markdown",
   "metadata": {},
   "source": [
    "Need to change these codes into a form we can work with. Convert into strings and then zip with country names so we have a reference for what each two-character acronym represents."
   ]
  },
  {
   "cell_type": "code",
   "execution_count": 29,
   "metadata": {},
   "outputs": [
    {
     "name": "stdout",
     "output_type": "stream",
     "text": [
      "AF Afghanistan\n",
      "AW Aruba\n",
      "AE United Arab Emirates\n",
      "AD Andorra\n",
      "AG Antigua and Barbuda\n",
      "AI Anguilla\n",
      "AM Armenia\n",
      "AL Albania\n",
      "AO Angola\n",
      "AN Netherlands Antilles\n",
      "AQ Antarctica  \t  \t  \t\n",
      "AS American Samoa\n",
      "AR Argentina\n",
      "AU Australia\n",
      "AT Austria\n",
      "AX Aland Islands\n",
      "AZ Azerbaijan\n"
     ]
    }
   ],
   "source": [
    "from itertools import islice\n",
    "for i in range(len(list_codes)):\n",
    "    if str(list_codes[i]) != ' AF':\n",
    "        list_codes[i] = str(list_codes[i])\n",
    "    else:\n",
    "        list_codes[i] = 'AF'\n",
    "\n",
    "country_dict = dict(zip(list_codes,list_countries))\n",
    "def take(n, iterable):\n",
    "    \"Return first n items of the iterable as a list\"\n",
    "    return list(islice(iterable, n))\n",
    "\n",
    "for key in country_dict:\n",
    "    if key[0] == 'A':\n",
    "        print key,country_dict[key]"
   ]
  },
  {
   "cell_type": "markdown",
   "metadata": {},
   "source": [
    "We now a more recognizable form for each country code. Now to find how many movies have been released in each country. "
   ]
  },
  {
   "cell_type": "code",
   "execution_count": 48,
   "metadata": {},
   "outputs": [
    {
     "name": "stdout",
     "output_type": "stream",
     "text": [
      "AF 77\n",
      "AW 7\n",
      "AE 129\n",
      "AD 11\n",
      "AG 11\n",
      "AI 1\n",
      "AM 184\n",
      "AL 954\n",
      "AO 36\n",
      "AN 7\n",
      "AQ 4\n",
      "AS 2\n",
      "AR 17519\n",
      "AU 8740\n",
      "AT 11654\n",
      "AX 0\n",
      "AZ 424\n"
     ]
    }
   ],
   "source": [
    "movies_per_country = dict(zip(list_codes, [0 for i in range(len(list_codes))]))\n",
    "for code in title_akas_movies_by_region['region']:\n",
    "    try:\n",
    "        movies_per_country[str(code)] += 1\n",
    "    except(KeyError):\n",
    "        continue\n",
    "\n",
    "for key in movies_per_country:\n",
    "    if key[0] == 'A':\n",
    "        print key,movies_per_country[key]"
   ]
  },
  {
   "cell_type": "markdown",
   "metadata": {},
   "source": [
    "Now for the average rating of all movies seen by a given country. Need title.ratings.tsv, extract movies with regional codes from it, and then attach a rating to each title."
   ]
  },
  {
   "cell_type": "code",
   "execution_count": 38,
   "metadata": {},
   "outputs": [
    {
     "data": {
      "text/html": [
       "<div>\n",
       "<style>\n",
       "    .dataframe thead tr:only-child th {\n",
       "        text-align: right;\n",
       "    }\n",
       "\n",
       "    .dataframe thead th {\n",
       "        text-align: left;\n",
       "    }\n",
       "\n",
       "    .dataframe tbody tr th {\n",
       "        vertical-align: top;\n",
       "    }\n",
       "</style>\n",
       "<table border=\"1\" class=\"dataframe\">\n",
       "  <thead>\n",
       "    <tr style=\"text-align: right;\">\n",
       "      <th></th>\n",
       "      <th>tconst</th>\n",
       "      <th>averageRating</th>\n",
       "      <th>numVotes</th>\n",
       "    </tr>\n",
       "  </thead>\n",
       "  <tbody>\n",
       "    <tr>\n",
       "      <th>0</th>\n",
       "      <td>tt0000001</td>\n",
       "      <td>5.8</td>\n",
       "      <td>1350</td>\n",
       "    </tr>\n",
       "    <tr>\n",
       "      <th>1</th>\n",
       "      <td>tt0000002</td>\n",
       "      <td>6.5</td>\n",
       "      <td>157</td>\n",
       "    </tr>\n",
       "    <tr>\n",
       "      <th>2</th>\n",
       "      <td>tt0000003</td>\n",
       "      <td>6.6</td>\n",
       "      <td>933</td>\n",
       "    </tr>\n",
       "    <tr>\n",
       "      <th>3</th>\n",
       "      <td>tt0000004</td>\n",
       "      <td>6.4</td>\n",
       "      <td>93</td>\n",
       "    </tr>\n",
       "    <tr>\n",
       "      <th>4</th>\n",
       "      <td>tt0000005</td>\n",
       "      <td>6.2</td>\n",
       "      <td>1621</td>\n",
       "    </tr>\n",
       "    <tr>\n",
       "      <th>5</th>\n",
       "      <td>tt0000006</td>\n",
       "      <td>5.7</td>\n",
       "      <td>80</td>\n",
       "    </tr>\n",
       "    <tr>\n",
       "      <th>6</th>\n",
       "      <td>tt0000007</td>\n",
       "      <td>5.5</td>\n",
       "      <td>543</td>\n",
       "    </tr>\n",
       "    <tr>\n",
       "      <th>7</th>\n",
       "      <td>tt0000008</td>\n",
       "      <td>5.6</td>\n",
       "      <td>1441</td>\n",
       "    </tr>\n",
       "    <tr>\n",
       "      <th>8</th>\n",
       "      <td>tt0000009</td>\n",
       "      <td>5.4</td>\n",
       "      <td>62</td>\n",
       "    </tr>\n",
       "    <tr>\n",
       "      <th>9</th>\n",
       "      <td>tt0000010</td>\n",
       "      <td>6.9</td>\n",
       "      <td>4845</td>\n",
       "    </tr>\n",
       "  </tbody>\n",
       "</table>\n",
       "</div>"
      ],
      "text/plain": [
       "      tconst  averageRating  numVotes\n",
       "0  tt0000001            5.8      1350\n",
       "1  tt0000002            6.5       157\n",
       "2  tt0000003            6.6       933\n",
       "3  tt0000004            6.4        93\n",
       "4  tt0000005            6.2      1621\n",
       "5  tt0000006            5.7        80\n",
       "6  tt0000007            5.5       543\n",
       "7  tt0000008            5.6      1441\n",
       "8  tt0000009            5.4        62\n",
       "9  tt0000010            6.9      4845"
      ]
     },
     "execution_count": 38,
     "metadata": {},
     "output_type": "execute_result"
    }
   ],
   "source": [
    "title_ratings = pd.read_csv('/Users/seankamano/Downloads/title.ratings.tsv', delimiter='\\t', encoding='utf-8')\n",
    "title_ratings.head(10)"
   ]
  },
  {
   "cell_type": "markdown",
   "metadata": {},
   "source": [
    "Get the tconsts in title.ratings.tsv"
   ]
  },
  {
   "cell_type": "code",
   "execution_count": 42,
   "metadata": {},
   "outputs": [
    {
     "data": {
      "text/plain": [
       "0    tt0000001\n",
       "1    tt0000002\n",
       "2    tt0000003\n",
       "3    tt0000004\n",
       "4    tt0000005\n",
       "5    tt0000006\n",
       "6    tt0000007\n",
       "7    tt0000008\n",
       "8    tt0000009\n",
       "9    tt0000010\n",
       "Name: tconst, dtype: object"
      ]
     },
     "execution_count": 42,
     "metadata": {},
     "output_type": "execute_result"
    }
   ],
   "source": [
    "tconsts = title_ratings['tconst']\n",
    "tconsts.head(10)"
   ]
  },
  {
   "cell_type": "markdown",
   "metadata": {},
   "source": [
    "Get all movies with a valid region and cross reference with movies which have an average rating."
   ]
  },
  {
   "cell_type": "code",
   "execution_count": 64,
   "metadata": {},
   "outputs": [
    {
     "data": {
      "text/html": [
       "<div>\n",
       "<style>\n",
       "    .dataframe thead tr:only-child th {\n",
       "        text-align: right;\n",
       "    }\n",
       "\n",
       "    .dataframe thead th {\n",
       "        text-align: left;\n",
       "    }\n",
       "\n",
       "    .dataframe tbody tr th {\n",
       "        vertical-align: top;\n",
       "    }\n",
       "</style>\n",
       "<table border=\"1\" class=\"dataframe\">\n",
       "  <thead>\n",
       "    <tr style=\"text-align: right;\">\n",
       "      <th></th>\n",
       "      <th>titleId</th>\n",
       "      <th>ordering</th>\n",
       "      <th>title</th>\n",
       "      <th>region</th>\n",
       "      <th>language</th>\n",
       "      <th>types</th>\n",
       "      <th>attributes</th>\n",
       "      <th>isOriginalTitle</th>\n",
       "    </tr>\n",
       "  </thead>\n",
       "  <tbody>\n",
       "    <tr>\n",
       "      <th>47</th>\n",
       "      <td>tt0000009</td>\n",
       "      <td>2</td>\n",
       "      <td>Miss Jerry</td>\n",
       "      <td>HU</td>\n",
       "      <td>\\N</td>\n",
       "      <td>imdbDisplay</td>\n",
       "      <td>\\N</td>\n",
       "      <td>0</td>\n",
       "    </tr>\n",
       "    <tr>\n",
       "      <th>48</th>\n",
       "      <td>tt0000009</td>\n",
       "      <td>3</td>\n",
       "      <td>Miss Jerry</td>\n",
       "      <td>US</td>\n",
       "      <td>\\N</td>\n",
       "      <td>\\N</td>\n",
       "      <td>\\N</td>\n",
       "      <td>0</td>\n",
       "    </tr>\n",
       "    <tr>\n",
       "      <th>568</th>\n",
       "      <td>tt0000147</td>\n",
       "      <td>1</td>\n",
       "      <td>The Corbett-Fitzsimmons Fight</td>\n",
       "      <td>US</td>\n",
       "      <td>\\N</td>\n",
       "      <td>\\N</td>\n",
       "      <td>\\N</td>\n",
       "      <td>0</td>\n",
       "    </tr>\n",
       "    <tr>\n",
       "      <th>971</th>\n",
       "      <td>tt0000335</td>\n",
       "      <td>1</td>\n",
       "      <td>Early Christian Martyrs</td>\n",
       "      <td>AU</td>\n",
       "      <td>\\N</td>\n",
       "      <td>working</td>\n",
       "      <td>\\N</td>\n",
       "      <td>0</td>\n",
       "    </tr>\n",
       "    <tr>\n",
       "      <th>972</th>\n",
       "      <td>tt0000335</td>\n",
       "      <td>2</td>\n",
       "      <td>Soldiers of the Cross</td>\n",
       "      <td>AU</td>\n",
       "      <td>\\N</td>\n",
       "      <td>\\N</td>\n",
       "      <td>\\N</td>\n",
       "      <td>0</td>\n",
       "    </tr>\n",
       "    <tr>\n",
       "      <th>1663</th>\n",
       "      <td>tt0000574</td>\n",
       "      <td>1</td>\n",
       "      <td>Kelly bandájának története</td>\n",
       "      <td>HU</td>\n",
       "      <td>\\N</td>\n",
       "      <td>imdbDisplay</td>\n",
       "      <td>\\N</td>\n",
       "      <td>0</td>\n",
       "    </tr>\n",
       "    <tr>\n",
       "      <th>1665</th>\n",
       "      <td>tt0000574</td>\n",
       "      <td>3</td>\n",
       "      <td>Die Geschichte der Kelly Bande</td>\n",
       "      <td>DE</td>\n",
       "      <td>\\N</td>\n",
       "      <td>\\N</td>\n",
       "      <td>\\N</td>\n",
       "      <td>0</td>\n",
       "    </tr>\n",
       "    <tr>\n",
       "      <th>1666</th>\n",
       "      <td>tt0000574</td>\n",
       "      <td>4</td>\n",
       "      <td>The Story of the Kelly Gang</td>\n",
       "      <td>AU</td>\n",
       "      <td>\\N</td>\n",
       "      <td>\\N</td>\n",
       "      <td>\\N</td>\n",
       "      <td>0</td>\n",
       "    </tr>\n",
       "    <tr>\n",
       "      <th>1783</th>\n",
       "      <td>tt0000615</td>\n",
       "      <td>1</td>\n",
       "      <td>Robbery Under Arms</td>\n",
       "      <td>AU</td>\n",
       "      <td>\\N</td>\n",
       "      <td>\\N</td>\n",
       "      <td>\\N</td>\n",
       "      <td>0</td>\n",
       "    </tr>\n",
       "    <tr>\n",
       "      <th>1820</th>\n",
       "      <td>tt0000630</td>\n",
       "      <td>1</td>\n",
       "      <td>Amleto</td>\n",
       "      <td>IT</td>\n",
       "      <td>\\N</td>\n",
       "      <td>\\N</td>\n",
       "      <td>\\N</td>\n",
       "      <td>0</td>\n",
       "    </tr>\n",
       "  </tbody>\n",
       "</table>\n",
       "</div>"
      ],
      "text/plain": [
       "        titleId  ordering                           title region language  \\\n",
       "47    tt0000009         2                      Miss Jerry     HU       \\N   \n",
       "48    tt0000009         3                      Miss Jerry     US       \\N   \n",
       "568   tt0000147         1   The Corbett-Fitzsimmons Fight     US       \\N   \n",
       "971   tt0000335         1         Early Christian Martyrs     AU       \\N   \n",
       "972   tt0000335         2           Soldiers of the Cross     AU       \\N   \n",
       "1663  tt0000574         1      Kelly bandájának története     HU       \\N   \n",
       "1665  tt0000574         3  Die Geschichte der Kelly Bande     DE       \\N   \n",
       "1666  tt0000574         4     The Story of the Kelly Gang     AU       \\N   \n",
       "1783  tt0000615         1              Robbery Under Arms     AU       \\N   \n",
       "1820  tt0000630         1                          Amleto     IT       \\N   \n",
       "\n",
       "            types attributes isOriginalTitle  \n",
       "47    imdbDisplay         \\N               0  \n",
       "48             \\N         \\N               0  \n",
       "568            \\N         \\N               0  \n",
       "971       working         \\N               0  \n",
       "972            \\N         \\N               0  \n",
       "1663  imdbDisplay         \\N               0  \n",
       "1665           \\N         \\N               0  \n",
       "1666           \\N         \\N               0  \n",
       "1783           \\N         \\N               0  \n",
       "1820           \\N         \\N               0  "
      ]
     },
     "execution_count": 64,
     "metadata": {},
     "output_type": "execute_result"
    }
   ],
   "source": [
    "movies_region_and_rating = title_akas_movies_by_region[title_akas_movies_by_region['titleId'].isin(tconsts.values)]\n",
    "movies_region_and_rating.head(10)"
   ]
  },
  {
   "cell_type": "markdown",
   "metadata": {},
   "source": [
    "Need to get ratings and connect them to country codes. First get ratings from title.ratings.tsv and attach them with their respective tconsts. Then, by comparing tconsts with titleId in movies_region_and_rating, get the country code."
   ]
  },
  {
   "cell_type": "code",
   "execution_count": 65,
   "metadata": {},
   "outputs": [
    {
     "data": {
      "text/html": [
       "<div>\n",
       "<style>\n",
       "    .dataframe thead tr:only-child th {\n",
       "        text-align: right;\n",
       "    }\n",
       "\n",
       "    .dataframe thead th {\n",
       "        text-align: left;\n",
       "    }\n",
       "\n",
       "    .dataframe tbody tr th {\n",
       "        vertical-align: top;\n",
       "    }\n",
       "</style>\n",
       "<table border=\"1\" class=\"dataframe\">\n",
       "  <thead>\n",
       "    <tr style=\"text-align: right;\">\n",
       "      <th></th>\n",
       "      <th>tconst</th>\n",
       "      <th>averageRating</th>\n",
       "      <th>numVotes</th>\n",
       "    </tr>\n",
       "  </thead>\n",
       "  <tbody>\n",
       "    <tr>\n",
       "      <th>8</th>\n",
       "      <td>tt0000009</td>\n",
       "      <td>5.4</td>\n",
       "      <td>62</td>\n",
       "    </tr>\n",
       "    <tr>\n",
       "      <th>141</th>\n",
       "      <td>tt0000147</td>\n",
       "      <td>5.2</td>\n",
       "      <td>245</td>\n",
       "    </tr>\n",
       "    <tr>\n",
       "      <th>232</th>\n",
       "      <td>tt0000335</td>\n",
       "      <td>6.2</td>\n",
       "      <td>32</td>\n",
       "    </tr>\n",
       "    <tr>\n",
       "      <th>331</th>\n",
       "      <td>tt0000574</td>\n",
       "      <td>6.3</td>\n",
       "      <td>431</td>\n",
       "    </tr>\n",
       "    <tr>\n",
       "      <th>347</th>\n",
       "      <td>tt0000615</td>\n",
       "      <td>5.1</td>\n",
       "      <td>12</td>\n",
       "    </tr>\n",
       "    <tr>\n",
       "      <th>353</th>\n",
       "      <td>tt0000630</td>\n",
       "      <td>2.9</td>\n",
       "      <td>8</td>\n",
       "    </tr>\n",
       "    <tr>\n",
       "      <th>380</th>\n",
       "      <td>tt0000675</td>\n",
       "      <td>4.7</td>\n",
       "      <td>7</td>\n",
       "    </tr>\n",
       "    <tr>\n",
       "      <th>381</th>\n",
       "      <td>tt0000676</td>\n",
       "      <td>4.0</td>\n",
       "      <td>6</td>\n",
       "    </tr>\n",
       "    <tr>\n",
       "      <th>382</th>\n",
       "      <td>tt0000679</td>\n",
       "      <td>6.1</td>\n",
       "      <td>24</td>\n",
       "    </tr>\n",
       "    <tr>\n",
       "      <th>412</th>\n",
       "      <td>tt0000739</td>\n",
       "      <td>7.2</td>\n",
       "      <td>6</td>\n",
       "    </tr>\n",
       "  </tbody>\n",
       "</table>\n",
       "</div>"
      ],
      "text/plain": [
       "        tconst  averageRating  numVotes\n",
       "8    tt0000009            5.4        62\n",
       "141  tt0000147            5.2       245\n",
       "232  tt0000335            6.2        32\n",
       "331  tt0000574            6.3       431\n",
       "347  tt0000615            5.1        12\n",
       "353  tt0000630            2.9         8\n",
       "380  tt0000675            4.7         7\n",
       "381  tt0000676            4.0         6\n",
       "382  tt0000679            6.1        24\n",
       "412  tt0000739            7.2         6"
      ]
     },
     "execution_count": 65,
     "metadata": {},
     "output_type": "execute_result"
    }
   ],
   "source": [
    "avg_rating_per_country = dict(zip(list_codes, [0 for i in range(len(list_codes))]))\n",
    "titleIds = movies_region_and_rating['titleId']\n",
    "ratings = title_ratings[title_ratings['tconst'].isin(titleIds.values)]\n",
    "ratings.head(10)\n"
   ]
  },
  {
   "cell_type": "code",
   "execution_count": null,
   "metadata": {
    "collapsed": true
   },
   "outputs": [],
   "source": []
  }
 ],
 "metadata": {
  "kernelspec": {
   "display_name": "Python 2",
   "language": "python",
   "name": "python2"
  },
  "language_info": {
   "codemirror_mode": {
    "name": "ipython",
    "version": 2
   },
   "file_extension": ".py",
   "mimetype": "text/x-python",
   "name": "python",
   "nbconvert_exporter": "python",
   "pygments_lexer": "ipython2",
   "version": "2.7.14"
  }
 },
 "nbformat": 4,
 "nbformat_minor": 2
}
