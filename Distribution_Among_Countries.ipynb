{
 "cells": [
  {
   "cell_type": "code",
   "execution_count": 27,
   "metadata": {
    "collapsed": true
   },
   "outputs": [],
   "source": [
    "import numpy as np\n",
    "import pandas as pd\n",
    "import matplotlib.pyplot as plt\n",
    "import unicodedata as ud"
   ]
  },
  {
   "cell_type": "markdown",
   "metadata": {},
   "source": [
    "Loads title.akas.tsv data. This file contains where each movie in the dataset has been released. The region of release is given by a two- or three-character country code."
   ]
  },
  {
   "cell_type": "code",
   "execution_count": 3,
   "metadata": {},
   "outputs": [
    {
     "name": "stderr",
     "output_type": "stream",
     "text": [
      "/Users/seankamano/anaconda2/lib/python2.7/site-packages/IPython/core/interactiveshell.py:2718: DtypeWarning: Columns (7) have mixed types. Specify dtype option on import or set low_memory=False.\n",
      "  interactivity=interactivity, compiler=compiler, result=result)\n"
     ]
    },
    {
     "name": "stdout",
     "output_type": "stream",
     "text": [
      "     titleId  ordering                      title region language  \\\n",
      "0  tt0000001         1  Carmencita - spanyol tánc     HU       \\N   \n",
      "1  tt0000001         2                 Карменсита     RU       \\N   \n",
      "2  tt0000001         3                 Carmencita     US       \\N   \n",
      "3  tt0000001         4                 Carmencita     \\N       \\N   \n",
      "4  tt0000002         1     Le clown et ses chiens     \\N       \\N   \n",
      "5  tt0000002         2          A bohóc és kutyái     HU       \\N   \n",
      "6  tt0000002         3     Le clown et ses chiens     FR       \\N   \n",
      "7  tt0000002         4     The Clown and His Dogs     US       \\N   \n",
      "8  tt0000002         5         Клоун и его собаки     RU       \\N   \n",
      "9  tt0000003         1            Szegény Pierrot     HU       \\N   \n",
      "\n",
      "         types             attributes isOriginalTitle  \n",
      "0  imdbDisplay                     \\N               0  \n",
      "1           \\N                     \\N               0  \n",
      "2           \\N                     \\N               0  \n",
      "3     original                     \\N               1  \n",
      "4     original                     \\N               1  \n",
      "5  imdbDisplay                     \\N               0  \n",
      "6           \\N                     \\N               0  \n",
      "7           \\N  literal English title               0  \n",
      "8           \\N                     \\N               0  \n",
      "9  imdbDisplay                     \\N               0  \n"
     ]
    }
   ],
   "source": [
    "title_akas = pd.read_csv('/Users/seankamano/Downloads/title.akas.tsv', delimiter = '\\t', encoding = 'utf-8')\n",
    "print title_akas.head(10)"
   ]
  },
  {
   "cell_type": "markdown",
   "metadata": {
    "collapsed": true
   },
   "source": [
    "Need to load title.basics.tsv data to get movies only. Gets tconst for all movies."
   ]
  },
  {
   "cell_type": "code",
   "execution_count": 4,
   "metadata": {},
   "outputs": [
    {
     "name": "stderr",
     "output_type": "stream",
     "text": [
      "/Users/seankamano/anaconda2/lib/python2.7/site-packages/IPython/core/interactiveshell.py:2718: DtypeWarning: Columns (5) have mixed types. Specify dtype option on import or set low_memory=False.\n",
      "  interactivity=interactivity, compiler=compiler, result=result)\n"
     ]
    },
    {
     "name": "stdout",
     "output_type": "stream",
     "text": [
      "8      tt0000009\n",
      "145    tt0000147\n",
      "332    tt0000335\n",
      "499    tt0000502\n",
      "571    tt0000574\n",
      "611    tt0000615\n",
      "626    tt0000630\n",
      "669    tt0000675\n",
      "670    tt0000676\n",
      "673    tt0000679\n",
      "Name: tconst, dtype: object\n"
     ]
    }
   ],
   "source": [
    "title_basics = pd.read_csv('/Users/seankamano/Downloads/title.basics.tsv', delimiter='\\t', encoding='utf-8')\n",
    "title_basics_movie = title_basics[title_basics['titleType'] == 'movie']\n",
    "uid = title_basics_movie['tconst']\n",
    "\n",
    "print uid.head(10)"
   ]
  },
  {
   "cell_type": "markdown",
   "metadata": {},
   "source": [
    "Get movies only from title.akas.tsv by taking the tconsts in uid and comparing them to the titleId's in title.akas.tsv. This filters out any entries that are not movies in title.akas.tsv"
   ]
  },
  {
   "cell_type": "code",
   "execution_count": 5,
   "metadata": {},
   "outputs": [
    {
     "name": "stdout",
     "output_type": "stream",
     "text": [
      "        titleId  ordering                          title region language  \\\n",
      "46    tt0000009         1                     Miss Jerry     \\N       \\N   \n",
      "47    tt0000009         2                     Miss Jerry     HU       \\N   \n",
      "48    tt0000009         3                     Miss Jerry     US       \\N   \n",
      "568   tt0000147         1  The Corbett-Fitzsimmons Fight     US       \\N   \n",
      "971   tt0000335         1        Early Christian Martyrs     AU       \\N   \n",
      "972   tt0000335         2          Soldiers of the Cross     AU       \\N   \n",
      "973   tt0000335         3          Soldiers of the Cross     \\N       \\N   \n",
      "1447  tt0000502         1                       Bohemios     ES       \\N   \n",
      "1663  tt0000574         1     Kelly bandájának története     HU       \\N   \n",
      "1664  tt0000574         2    The Story of the Kelly Gang     \\N       \\N   \n",
      "\n",
      "            types attributes isOriginalTitle  \n",
      "46       original         \\N               1  \n",
      "47    imdbDisplay         \\N               0  \n",
      "48             \\N         \\N               0  \n",
      "568            \\N         \\N               0  \n",
      "971       working         \\N               0  \n",
      "972            \\N         \\N               0  \n",
      "973      original         \\N               1  \n",
      "1447           \\N         \\N               0  \n",
      "1663  imdbDisplay         \\N               0  \n",
      "1664     original         \\N               1  \n"
     ]
    }
   ],
   "source": [
    "title_akas_movies = title_akas[title_akas['titleId'].isin(uid.values)]\n",
    "\n",
    "print title_akas_movies.head(10)"
   ]
  },
  {
   "cell_type": "markdown",
   "metadata": {},
   "source": [
    "Remove movies without any regional data. Store movies without regional data for later reference, if it's ever needed."
   ]
  },
  {
   "cell_type": "code",
   "execution_count": 7,
   "metadata": {},
   "outputs": [
    {
     "name": "stdout",
     "output_type": "stream",
     "text": [
      "Movies that have a region code:\n",
      "47      HU\n",
      "48      US\n",
      "568     US\n",
      "971     AU\n",
      "972     AU\n",
      "1447    ES\n",
      "1663    HU\n",
      "1665    DE\n",
      "1666    AU\n",
      "1783    AU\n",
      "Name: region, dtype: object\n",
      "\n",
      "**************************************************************************************************** \n",
      "\n",
      "Movies without a region code:\n",
      "46      \\N\n",
      "973     \\N\n",
      "1664    \\N\n",
      "1821    \\N\n",
      "2138    \\N\n",
      "2221    \\N\n",
      "2321    \\N\n",
      "2330    \\N\n",
      "2420    \\N\n",
      "2638    \\N\n",
      "Name: region, dtype: object\n"
     ]
    }
   ],
   "source": [
    "title_akas_movies_by_region = title_akas_movies[title_akas_movies['region'] != '\\N']\n",
    "title_akas_movies_no_region = title_akas_movies[title_akas_movies['region'] == '\\N']\n",
    "print \"Movies that have a region code:\"\n",
    "print title_akas_movies_by_region['region'].head(10)\n",
    "print '\\n',\"*\"*100,'\\n'\n",
    "print \"Movies without a region code:\"\n",
    "print title_akas_movies_no_region['region'].head(10)"
   ]
  },
  {
   "cell_type": "markdown",
   "metadata": {},
   "source": [
    "Need to make sense of region codes. Scrape data off of https://help.imdb.com/article/contribution/other-submission-guides/country-codes/G99K4LFRMSC37DCN#, which shows which country code corresponds to which country name. The BeautifulSoup and urllib2 modules are used here. The documentation for each can be found here https://docs.python.org/2/library/urllib2.html and here https://www.crummy.com/software/BeautifulSoup/bs4/doc/."
   ]
  },
  {
   "cell_type": "code",
   "execution_count": 38,
   "metadata": {
    "scrolled": false
   },
   "outputs": [
    {
     "name": "stdout",
     "output_type": "stream",
     "text": [
      "['Afghanistan', 'Aland Islands', 'Albania', 'Algeria', 'American Samoa', 'Andorra', 'Angola', 'Anguilla', 'Antarctica', 'Antigua and Barbuda']\n",
      "['AF', 'AX', 'AL', 'DZ', 'AS', 'AD', 'AO', 'AI', 'AQ', 'AG']\n"
     ]
    }
   ],
   "source": [
    "import urllib2\n",
    "from bs4 import BeautifulSoup\n",
    "\n",
    "soup = BeautifulSoup(urllib2.urlopen('https://help.imdb.com/article/contribution/other-submission-guides/country-codes/G99K4LFRMSC37DCN#').read(), \"lxml\")\n",
    "\n",
    "# `tableClassResults` stores each line of HTML text which is contained by the object `table`. BeautifulSoup then\n",
    "#  looks only for tables with the key `summary` which has a value of `List of accepted ...` and then stores all\n",
    "#  of the HTML text enclosed within this specific table.\n",
    "\n",
    "tableClassResults = soup.find(\"table\",{\"summary\":\"List of accepted country codes - by country\"})\n",
    "\n",
    "# find_all('li') finds all instances of <li> [desired info here] </li> in tableClassResults and stores \n",
    "# every [desired info here] into `countries` which is a list whose elements are a single line of HTML text.\n",
    "\n",
    "countries = tableClassResults.find_all('li')\n",
    "other_countries = soup.find_all('tr')\n",
    "# other_countries contains codes for countries which no longer exist (USSR, Yugoslavia, etc.)\n",
    "\n",
    "# `list_countries` is a list of all country names. The line below specifies that only the fourth character and on \n",
    "#  is all that's desired in each line of `countries`. List_codes works in the same exact way.\n",
    "list_countries = [ud.normalize('NFKD', country.contents[0][4:]).encode('ascii','ignore') for country in countries]\n",
    "list_codes = [str(country.contents[0][0:2]).upper() for country in countries]\n",
    "other_countries = other_countries[-5:]\n",
    "for country in other_countries:\n",
    "    list_codes.append(str(country.contents[0])[4:8].upper())\n",
    "for country in other_countries:\n",
    "    list_countries.append(str(country.contents[1]))\n",
    "print list_countries[:10]\n",
    "print list_codes[:10]"
   ]
  },
  {
   "cell_type": "markdown",
   "metadata": {},
   "source": [
    "Zip codes with country names so we have a reference for what each two-character acronym represents."
   ]
  },
  {
   "cell_type": "code",
   "execution_count": 39,
   "metadata": {},
   "outputs": [
    {
     "name": "stdout",
     "output_type": "stream",
     "text": [
      "AF Afghanistan\n",
      "AW Aruba\n",
      "AE United Arab Emirates\n",
      "AD Andorra\n",
      "AG Antigua and Barbuda\n",
      "AI Anguilla\n",
      "AM Armenia\n",
      "AL Albania\n",
      "AO Angola\n",
      "AN Netherlands Antilles\n",
      "AQ Antarctica\n",
      "AS American Samoa\n",
      "AR Argentina\n",
      "AU Australia\n",
      "AT Austria\n",
      "AX Aland Islands\n",
      "AZ Azerbaijan\n"
     ]
    }
   ],
   "source": [
    "country_dict = dict(zip(list_codes,list_countries))\n",
    "\n",
    "# Just print countries whose codes begin with the letter 'A'\n",
    "for key in country_dict:\n",
    "    if key[0] == 'A':\n",
    "        print key,country_dict[key]\n"
   ]
  },
  {
   "cell_type": "markdown",
   "metadata": {},
   "source": [
    "We now a more recognizable form for each country code. Now to find how many movies have been released in each country. "
   ]
  },
  {
   "cell_type": "code",
   "execution_count": 44,
   "metadata": {},
   "outputs": [
    {
     "data": {
      "image/png": "[encoded data removed]",
      "text/plain": [
       "<matplotlib.figure.Figure at 0x15551ba50>"
      ]
     },
     "metadata": {},
     "output_type": "display_data"
    }
   ],
   "source": [
    "movies_per_country = dict(zip(list_codes, [0 for i in range(len(list_codes))]))\n",
    "for code in title_akas_movies_by_region['region']:\n",
    "    try:\n",
    "        movies_per_country[str(code)] += 1\n",
    "    except(KeyError):\n",
    "        continue\n",
    "\n",
    "top_ten_countries = []\n",
    "top_ten_num_movies = []\n",
    "top_ten_countries = sorted(movies_per_country, key=movies_per_country.get, reverse=True)[:20]\n",
    "for code in top_ten_countries:\n",
    "    top_ten_num_movies.append(movies_per_country[code])\n",
    "for i in range(len(top_ten_countries)):\n",
    "    top_ten_countries[i] = country_dict[top_ten_countries[i]]\n",
    "fig, ax = plt.subplots()\n",
    "\n",
    "ax.bar(np.arange(len(top_ten_countries)), top_ten_num_movies)\n",
    "\n",
    "ax.set_title('Number of Movies Released by Country (Top Twenty)', fontsize=20)\n",
    "ax.set_xlabel('Countries', fontsize=18)\n",
    "ax.set_ylabel('Number of Movies', fontsize=18)\n",
    "\n",
    "plt.xticks(np.arange(len(top_ten_countries)), top_ten_countries)\n",
    "plt.setp(ax.get_xticklabels(), rotation=90, horizontalalignment='right')\n",
    "\n",
    "plt.show()\n"
   ]
  },
  {
   "cell_type": "markdown",
   "metadata": {},
   "source": [
    "Now for the average rating of all movies seen by a given country. Need title.ratings.tsv, extract movies with regional codes from it, and then attach a rating to each title."
   ]
  },
  {
   "cell_type": "code",
   "execution_count": 12,
   "metadata": {},
   "outputs": [
    {
     "data": {
      "text/html": [
       "<div>\n",
       "<style>\n",
       "    .dataframe thead tr:only-child th {\n",
       "        text-align: right;\n",
       "    }\n",
       "\n",
       "    .dataframe thead th {\n",
       "        text-align: left;\n",
       "    }\n",
       "\n",
       "    .dataframe tbody tr th {\n",
       "        vertical-align: top;\n",
       "    }\n",
       "</style>\n",
       "<table border=\"1\" class=\"dataframe\">\n",
       "  <thead>\n",
       "    <tr style=\"text-align: right;\">\n",
       "      <th></th>\n",
       "      <th>tconst</th>\n",
       "      <th>averageRating</th>\n",
       "      <th>numVotes</th>\n",
       "    </tr>\n",
       "  </thead>\n",
       "  <tbody>\n",
       "    <tr>\n",
       "      <th>0</th>\n",
       "      <td>tt0000001</td>\n",
       "      <td>5.8</td>\n",
       "      <td>1350</td>\n",
       "    </tr>\n",
       "    <tr>\n",
       "      <th>1</th>\n",
       "      <td>tt0000002</td>\n",
       "      <td>6.5</td>\n",
       "      <td>157</td>\n",
       "    </tr>\n",
       "    <tr>\n",
       "      <th>2</th>\n",
       "      <td>tt0000003</td>\n",
       "      <td>6.6</td>\n",
       "      <td>933</td>\n",
       "    </tr>\n",
       "    <tr>\n",
       "      <th>3</th>\n",
       "      <td>tt0000004</td>\n",
       "      <td>6.4</td>\n",
       "      <td>93</td>\n",
       "    </tr>\n",
       "    <tr>\n",
       "      <th>4</th>\n",
       "      <td>tt0000005</td>\n",
       "      <td>6.2</td>\n",
       "      <td>1621</td>\n",
       "    </tr>\n",
       "    <tr>\n",
       "      <th>5</th>\n",
       "      <td>tt0000006</td>\n",
       "      <td>5.7</td>\n",
       "      <td>80</td>\n",
       "    </tr>\n",
       "    <tr>\n",
       "      <th>6</th>\n",
       "      <td>tt0000007</td>\n",
       "      <td>5.5</td>\n",
       "      <td>543</td>\n",
       "    </tr>\n",
       "    <tr>\n",
       "      <th>7</th>\n",
       "      <td>tt0000008</td>\n",
       "      <td>5.6</td>\n",
       "      <td>1441</td>\n",
       "    </tr>\n",
       "    <tr>\n",
       "      <th>8</th>\n",
       "      <td>tt0000009</td>\n",
       "      <td>5.4</td>\n",
       "      <td>62</td>\n",
       "    </tr>\n",
       "    <tr>\n",
       "      <th>9</th>\n",
       "      <td>tt0000010</td>\n",
       "      <td>6.9</td>\n",
       "      <td>4845</td>\n",
       "    </tr>\n",
       "  </tbody>\n",
       "</table>\n",
       "</div>"
      ],
      "text/plain": [
       "      tconst  averageRating  numVotes\n",
       "0  tt0000001            5.8      1350\n",
       "1  tt0000002            6.5       157\n",
       "2  tt0000003            6.6       933\n",
       "3  tt0000004            6.4        93\n",
       "4  tt0000005            6.2      1621\n",
       "5  tt0000006            5.7        80\n",
       "6  tt0000007            5.5       543\n",
       "7  tt0000008            5.6      1441\n",
       "8  tt0000009            5.4        62\n",
       "9  tt0000010            6.9      4845"
      ]
     },
     "execution_count": 12,
     "metadata": {},
     "output_type": "execute_result"
    }
   ],
   "source": [
    "title_ratings = pd.read_csv('/Users/seankamano/Downloads/title.ratings.tsv', delimiter='\\t', encoding='utf-8')\n",
    "title_ratings.head(10)"
   ]
  },
  {
   "cell_type": "markdown",
   "metadata": {},
   "source": [
    "Get the tconsts in title.ratings.tsv. Key-value pairs are made with the tconst as the key and average rating as the value and these pairs are stored in a dictionary. This dictionary will be used later to access rating data by tconst. Another dictionary will store tconst-country code pairs, so it will then be possible to pair rating data with country codes because a given rating and country code will have a common tconsnt as a key. "
   ]
  },
  {
   "cell_type": "code",
   "execution_count": 13,
   "metadata": {},
   "outputs": [
    {
     "name": "stdout",
     "output_type": "stream",
     "text": [
      "tt7763324 7.2\n",
      "tt1810373 7.1\n",
      "tt1810372 7.5\n",
      "tt1810371 7.2\n",
      "tt0411539 6.2\n",
      "tt0411538 7.9\n",
      "tt2877896 8.5\n",
      "tt0382269 4.8\n",
      "tt3393762 7.5\n",
      "tt0382267 7.2\n"
     ]
    }
   ],
   "source": [
    "tconsts = title_ratings['tconst'].values\n",
    "ratings = title_ratings['averageRating'].values\n",
    "tconst_rating_pairs = dict(zip(tconsts,ratings))\n",
    "i = 0\n",
    "for key in tconst_rating_pairs:\n",
    "    if i == 10:\n",
    "        break\n",
    "    i += 1\n",
    "    print key, tconst_rating_pairs[key]"
   ]
  },
  {
   "cell_type": "markdown",
   "metadata": {},
   "source": [
    "Get all movies with a valid region and cross reference with movies which have an average rating. This gives us movies for which there are data for both region and ratings. This must be done since we are using movies from two different files."
   ]
  },
  {
   "cell_type": "code",
   "execution_count": 14,
   "metadata": {},
   "outputs": [
    {
     "data": {
      "text/html": [
       "<div>\n",
       "<style>\n",
       "    .dataframe thead tr:only-child th {\n",
       "        text-align: right;\n",
       "    }\n",
       "\n",
       "    .dataframe thead th {\n",
       "        text-align: left;\n",
       "    }\n",
       "\n",
       "    .dataframe tbody tr th {\n",
       "        vertical-align: top;\n",
       "    }\n",
       "</style>\n",
       "<table border=\"1\" class=\"dataframe\">\n",
       "  <thead>\n",
       "    <tr style=\"text-align: right;\">\n",
       "      <th></th>\n",
       "      <th>titleId</th>\n",
       "      <th>ordering</th>\n",
       "      <th>title</th>\n",
       "      <th>region</th>\n",
       "      <th>language</th>\n",
       "      <th>types</th>\n",
       "      <th>attributes</th>\n",
       "      <th>isOriginalTitle</th>\n",
       "    </tr>\n",
       "  </thead>\n",
       "  <tbody>\n",
       "    <tr>\n",
       "      <th>47</th>\n",
       "      <td>tt0000009</td>\n",
       "      <td>2</td>\n",
       "      <td>Miss Jerry</td>\n",
       "      <td>HU</td>\n",
       "      <td>\\N</td>\n",
       "      <td>imdbDisplay</td>\n",
       "      <td>\\N</td>\n",
       "      <td>0</td>\n",
       "    </tr>\n",
       "    <tr>\n",
       "      <th>48</th>\n",
       "      <td>tt0000009</td>\n",
       "      <td>3</td>\n",
       "      <td>Miss Jerry</td>\n",
       "      <td>US</td>\n",
       "      <td>\\N</td>\n",
       "      <td>\\N</td>\n",
       "      <td>\\N</td>\n",
       "      <td>0</td>\n",
       "    </tr>\n",
       "    <tr>\n",
       "      <th>568</th>\n",
       "      <td>tt0000147</td>\n",
       "      <td>1</td>\n",
       "      <td>The Corbett-Fitzsimmons Fight</td>\n",
       "      <td>US</td>\n",
       "      <td>\\N</td>\n",
       "      <td>\\N</td>\n",
       "      <td>\\N</td>\n",
       "      <td>0</td>\n",
       "    </tr>\n",
       "    <tr>\n",
       "      <th>971</th>\n",
       "      <td>tt0000335</td>\n",
       "      <td>1</td>\n",
       "      <td>Early Christian Martyrs</td>\n",
       "      <td>AU</td>\n",
       "      <td>\\N</td>\n",
       "      <td>working</td>\n",
       "      <td>\\N</td>\n",
       "      <td>0</td>\n",
       "    </tr>\n",
       "    <tr>\n",
       "      <th>972</th>\n",
       "      <td>tt0000335</td>\n",
       "      <td>2</td>\n",
       "      <td>Soldiers of the Cross</td>\n",
       "      <td>AU</td>\n",
       "      <td>\\N</td>\n",
       "      <td>\\N</td>\n",
       "      <td>\\N</td>\n",
       "      <td>0</td>\n",
       "    </tr>\n",
       "    <tr>\n",
       "      <th>1663</th>\n",
       "      <td>tt0000574</td>\n",
       "      <td>1</td>\n",
       "      <td>Kelly bandájának története</td>\n",
       "      <td>HU</td>\n",
       "      <td>\\N</td>\n",
       "      <td>imdbDisplay</td>\n",
       "      <td>\\N</td>\n",
       "      <td>0</td>\n",
       "    </tr>\n",
       "    <tr>\n",
       "      <th>1665</th>\n",
       "      <td>tt0000574</td>\n",
       "      <td>3</td>\n",
       "      <td>Die Geschichte der Kelly Bande</td>\n",
       "      <td>DE</td>\n",
       "      <td>\\N</td>\n",
       "      <td>\\N</td>\n",
       "      <td>\\N</td>\n",
       "      <td>0</td>\n",
       "    </tr>\n",
       "    <tr>\n",
       "      <th>1666</th>\n",
       "      <td>tt0000574</td>\n",
       "      <td>4</td>\n",
       "      <td>The Story of the Kelly Gang</td>\n",
       "      <td>AU</td>\n",
       "      <td>\\N</td>\n",
       "      <td>\\N</td>\n",
       "      <td>\\N</td>\n",
       "      <td>0</td>\n",
       "    </tr>\n",
       "    <tr>\n",
       "      <th>1783</th>\n",
       "      <td>tt0000615</td>\n",
       "      <td>1</td>\n",
       "      <td>Robbery Under Arms</td>\n",
       "      <td>AU</td>\n",
       "      <td>\\N</td>\n",
       "      <td>\\N</td>\n",
       "      <td>\\N</td>\n",
       "      <td>0</td>\n",
       "    </tr>\n",
       "    <tr>\n",
       "      <th>1820</th>\n",
       "      <td>tt0000630</td>\n",
       "      <td>1</td>\n",
       "      <td>Amleto</td>\n",
       "      <td>IT</td>\n",
       "      <td>\\N</td>\n",
       "      <td>\\N</td>\n",
       "      <td>\\N</td>\n",
       "      <td>0</td>\n",
       "    </tr>\n",
       "  </tbody>\n",
       "</table>\n",
       "</div>"
      ],
      "text/plain": [
       "        titleId  ordering                           title region language  \\\n",
       "47    tt0000009         2                      Miss Jerry     HU       \\N   \n",
       "48    tt0000009         3                      Miss Jerry     US       \\N   \n",
       "568   tt0000147         1   The Corbett-Fitzsimmons Fight     US       \\N   \n",
       "971   tt0000335         1         Early Christian Martyrs     AU       \\N   \n",
       "972   tt0000335         2           Soldiers of the Cross     AU       \\N   \n",
       "1663  tt0000574         1      Kelly bandájának története     HU       \\N   \n",
       "1665  tt0000574         3  Die Geschichte der Kelly Bande     DE       \\N   \n",
       "1666  tt0000574         4     The Story of the Kelly Gang     AU       \\N   \n",
       "1783  tt0000615         1              Robbery Under Arms     AU       \\N   \n",
       "1820  tt0000630         1                          Amleto     IT       \\N   \n",
       "\n",
       "            types attributes isOriginalTitle  \n",
       "47    imdbDisplay         \\N               0  \n",
       "48             \\N         \\N               0  \n",
       "568            \\N         \\N               0  \n",
       "971       working         \\N               0  \n",
       "972            \\N         \\N               0  \n",
       "1663  imdbDisplay         \\N               0  \n",
       "1665           \\N         \\N               0  \n",
       "1666           \\N         \\N               0  \n",
       "1783           \\N         \\N               0  \n",
       "1820           \\N         \\N               0  "
      ]
     },
     "execution_count": 14,
     "metadata": {},
     "output_type": "execute_result"
    }
   ],
   "source": [
    "movies_region_and_rating = title_akas_movies_by_region[title_akas_movies_by_region['titleId'].isin(tconsts)]\n",
    "movies_region_and_rating.head(10)"
   ]
  },
  {
   "cell_type": "markdown",
   "metadata": {},
   "source": [
    "We need to get ratings and connect them to country codes. First get ratings from title.ratings.tsv and attach them with their respective tconsts. Then, by comparing tconsts with titleId in movies_region_and_rating, we can get the country code. The ratings and region codes now have their tconsts in common, and we can now get data on ratings by country. We start by pairing tconsts and region codes as key-value pairs in a dictionary."
   ]
  },
  {
   "cell_type": "code",
   "execution_count": 18,
   "metadata": {},
   "outputs": [
    {
     "name": "stdout",
     "output_type": "stream",
     "text": [
      "tt4340720 GB\n",
      "tt0248097 MX\n",
      "tt3060650 CA\n",
      "tt0248093 DE\n",
      "tt1677656 PK\n",
      "tt0248099 US\n",
      "tt1883133 FI\n",
      "tt4557916 US\n",
      "tt6788720 TH\n",
      "tt3393762 US\n"
     ]
    }
   ],
   "source": [
    "titleIds = movies_region_and_rating['titleId'].values\n",
    "regions = movies_region_and_rating['region'].values\n",
    "titleId_region_pairs = dict(zip(titleIds,regions))\n",
    "j = 0\n",
    "for key in titleId_region_pairs:\n",
    "    if j == 10:\n",
    "        break\n",
    "    j += 1\n",
    "    print key, titleId_region_pairs[key]"
   ]
  },
  {
   "cell_type": "markdown",
   "metadata": {
    "collapsed": true
   },
   "source": [
    "Next, we do the same for ratings. A dictionary is intitialized with country codes as keys and average ratings as values. Next, tconsts are retrieved from the dataframe containing the tconsts for which regional and rating data exists. Each tconst is used to access its own rating value from the tconst-rating dictionary as well as its country code from the tconst-region dictionary above. Two dictionaries are initialized to hold the results: ratings_per_country_stats and ratings_per_country. Each of these dictionaries uses a country code as a key. The former has a two-element list as its value; the first element is the sum of average ratings of each movie released in that country, and the second element is the number of movies which had received ratings in that country. The latter has the average rating of all movies released in that country and is calculated by dividing the sum of average ratings and number of movies which had received ratings. "
   ]
  },
  {
   "cell_type": "code",
   "execution_count": 20,
   "metadata": {},
   "outputs": [
    {
     "name": "stdout",
     "output_type": "stream",
     "text": [
      "Average Rating of All Movies in a Country\n",
      "\n",
      "AF 7.3\n",
      "AW 7.2\n",
      "AE 6.90243902439\n",
      "AD 0\n",
      "AG 7.66666666667\n",
      "AI 0\n",
      "AM 5.97109375\n",
      "AL 6.56267409471\n",
      "AO 6.73333333333\n",
      "AN 8.8\n",
      "AQ 0\n",
      "AS 0\n",
      "AR 6.46875083233\n",
      "AU 6.35048785154\n",
      "AT 6.57792853444\n",
      "AX 0\n",
      "AZ 7.3725848564\n",
      "****************************************************************************************************\n",
      "\n",
      "[Sum of average ratings, number of movies with ratings] by Country\n",
      "AF [204.40000000000003, 28]\n",
      "AW [14.4, 2]\n",
      "AE [282.99999999999994, 41]\n",
      "AD [0, 0]\n",
      "AG [23.0, 3]\n",
      "AI [0, 0]\n",
      "AM [764.30000000000018, 128]\n",
      "AL [2355.9999999999964, 359]\n",
      "AO [40.399999999999999, 6]\n",
      "AN [8.8000000000000007, 1]\n",
      "AQ [0, 0]\n",
      "AS [0, 0]\n",
      "AR [97147.700000000987, 15018]\n",
      "AU [33193.999999999927, 5227]\n",
      "AT [63509.900000000103, 9655]\n",
      "AX [0, 0]\n",
      "AZ [2823.7000000000035, 383]\n"
     ]
    }
   ],
   "source": [
    "ratings_per_country_stats = dict(zip(list_codes, [[0,0] for i in range(len(list_codes))]))\n",
    "ratings_per_country = dict(zip(list_codes, [0 for i in range(len(list_codes))]))\n",
    "for tcode in movies_region_and_rating['titleId']:\n",
    "    try:\n",
    "        tmp_rating = tconst_rating_pairs[tcode] \n",
    "        tmp_ccode = titleId_region_pairs[tcode]\n",
    "        ratings_per_country_stats[tmp_ccode][0] += tmp_rating\n",
    "        ratings_per_country_stats[tmp_ccode][1] += 1\n",
    "    except KeyError:\n",
    "        continue\n",
    "\n",
    "for key in ratings_per_country:\n",
    "    if ratings_per_country_stats[key][1] != 0:\n",
    "        ratings_per_country[key] = ratings_per_country_stats[key][0] / ratings_per_country_stats[key][1]\n",
    "    else:\n",
    "        continue\n",
    "\n",
    "print \"Average Rating of All Movies in a Country\\n\"\n",
    "for key in ratings_per_country:\n",
    "    if key[0] == 'A':\n",
    "        print key,ratings_per_country[key]\n",
    "\n",
    "print '*'*100\n",
    "print \"\\n[Sum of average ratings, number of movies with ratings] by Country\"\n",
    "for key in ratings_per_country_stats:\n",
    "    if key[0] == 'A':\n",
    "        print key,ratings_per_country_stats[key]"
   ]
  },
  {
   "cell_type": "markdown",
   "metadata": {
    "collapsed": true
   },
   "source": [
    "http://geojson.io/#map=3/34.52/-71.89"
   ]
  }
 ],
 "metadata": {
  "kernelspec": {
   "display_name": "Python 2",
   "language": "python",
   "name": "python2"
  },
  "language_info": {
   "codemirror_mode": {
    "name": "ipython",
    "version": 2
   },
   "file_extension": ".py",
   "mimetype": "text/x-python",
   "name": "python",
   "nbconvert_exporter": "python",
   "pygments_lexer": "ipython2",
   "version": "2.7.14"
  }
 },
 "nbformat": 4,
 "nbformat_minor": 2
}
